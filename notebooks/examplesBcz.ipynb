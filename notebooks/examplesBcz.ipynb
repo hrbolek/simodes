{
  "nbformat": 4,
  "nbformat_minor": 0,
  "metadata": {
    "colab": {
      "name": "examplesBcz.ipynb",
      "provenance": [],
      "authorship_tag": "ABX9TyOi+M2N32tQlMmHxDzICnTB",
      "include_colab_link": true
    },
    "kernelspec": {
      "name": "python3",
      "display_name": "Python 3"
    }
  },
  "cells": [
    {
      "cell_type": "markdown",
      "metadata": {
        "id": "view-in-github",
        "colab_type": "text"
      },
      "source": [
        "<a href=\"https://colab.research.google.com/github/hrbolek/simodes/blob/main/notebooks/examplesBcz.ipynb\" target=\"_parent\"><img src=\"https://colab.research.google.com/assets/colab-badge.svg\" alt=\"Open In Colab\"/></a>"
      ]
    },
    {
      "cell_type": "code",
      "metadata": {
        "id": "OsriOLBlsHFD"
      },
      "source": [
        "!pip install simodes"
      ],
      "execution_count": null,
      "outputs": []
    },
    {
      "cell_type": "code",
      "metadata": {
        "id": "j3tholNesUhl"
      },
      "source": [
        "import simodes\r\n",
        "from simodes.models import definePlane"
      ],
      "execution_count": null,
      "outputs": []
    }
  ]
}