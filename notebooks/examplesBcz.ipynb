{
  "nbformat": 4,
  "nbformat_minor": 0,
  "metadata": {
    "colab": {
      "name": "examplesBcz.ipynb",
      "provenance": [],
      "authorship_tag": "ABX9TyMrMRVjf0diS2yu5Gxn+HgG",
      "include_colab_link": true
    },
    "kernelspec": {
      "name": "python3",
      "display_name": "Python 3"
    }
  },
  "cells": [
    {
      "cell_type": "markdown",
      "metadata": {
        "id": "view-in-github",
        "colab_type": "text"
      },
      "source": [
        "<a href=\"https://colab.research.google.com/github/hrbolek/simodes/blob/main/notebooks/examplesBcz.ipynb\" target=\"_parent\"><img src=\"https://colab.research.google.com/assets/colab-badge.svg\" alt=\"Open In Colab\"/></a>"
      ]
    },
    {
      "cell_type": "markdown",
      "metadata": {
        "id": "IuAku5uosyxL"
      },
      "source": [
        "# Pokročilé příklady použití simodes"
      ]
    },
    {
      "cell_type": "code",
      "metadata": {
        "id": "OsriOLBlsHFD",
        "colab": {
          "base_uri": "https://localhost:8080/"
        },
        "outputId": "fcfd9acf-1316-417b-c845-0947c8b8ca6f"
      },
      "source": [
        "!pip install simodes"
      ],
      "execution_count": 1,
      "outputs": [
        {
          "output_type": "stream",
          "text": [
            "Collecting simodes\n",
            "  Downloading https://files.pythonhosted.org/packages/11/55/f8ec3fc29e8c84337a809f23a98560ebcaddf9b6790b30cbf866f7b7aa5d/simodes-0.7.tar.gz\n",
            "Requirement already satisfied: scipy in /usr/local/lib/python3.6/dist-packages (from simodes) (1.4.1)\n",
            "Requirement already satisfied: numpy>=1.13.3 in /usr/local/lib/python3.6/dist-packages (from scipy->simodes) (1.19.5)\n",
            "Building wheels for collected packages: simodes\n",
            "  Building wheel for simodes (setup.py) ... \u001b[?25l\u001b[?25hdone\n",
            "  Created wheel for simodes: filename=simodes-0.7-cp36-none-any.whl size=8190 sha256=81bf6ebce96808414907525b9c0cb0c0ae9b0480ed51b3ad5c8c76ba1d8a6b61\n",
            "  Stored in directory: /root/.cache/pip/wheels/08/c2/46/7d5a5e782f37198585781299372a257b1ed9361bb8f288741e\n",
            "Successfully built simodes\n",
            "Installing collected packages: simodes\n",
            "Successfully installed simodes-0.7\n"
          ],
          "name": "stdout"
        }
      ]
    },
    {
      "cell_type": "markdown",
      "metadata": {
        "id": "RPZB_yKGs9fw"
      },
      "source": [
        "## Příklad A"
      ]
    },
    {
      "cell_type": "markdown",
      "metadata": {
        "id": "SDAfqgCstF-M"
      },
      "source": [
        "### Importy z knihovny "
      ]
    },
    {
      "cell_type": "markdown",
      "metadata": {
        "id": "GWKFHLIqtMJ-"
      },
      "source": [
        ""
      ]
    },
    {
      "cell_type": "code",
      "metadata": {
        "id": "j3tholNesUhl"
      },
      "source": [
        "import simodes\r\n",
        "from simodes import Simulator\r\n",
        "from simodes import simpleODESolver\r\n",
        "from simodes.models import definePlane\r\n",
        "from simodes.models import computeState"
      ],
      "execution_count": 9,
      "outputs": []
    },
    {
      "cell_type": "markdown",
      "metadata": {
        "id": "ejOjT0D3tNIT"
      },
      "source": [
        "### Inicializace simulace"
      ]
    },
    {
      "cell_type": "code",
      "metadata": {
        "colab": {
          "base_uri": "https://localhost:8080/"
        },
        "id": "kU_Fc4B6tCe6",
        "outputId": "2c699609-7ac9-4ef4-ae40-77a46cd252d5"
      },
      "source": [
        "sim = Simulator()\r\n",
        "currentState = sim.GetState()\r\n",
        "print(currentState)"
      ],
      "execution_count": 6,
      "outputs": [
        {
          "output_type": "stream",
          "text": [
            "{'odeModels': {}, 'eventList': {'events': [], 'activeEvent': None}, 'logs': []}\n"
          ],
          "name": "stdout"
        }
      ]
    },
    {
      "cell_type": "markdown",
      "metadata": {
        "id": "xtARKjY4tS-Q"
      },
      "source": [
        "### Příprava modelu"
      ]
    },
    {
      "cell_type": "code",
      "metadata": {
        "id": "oPHK53z8ui8j"
      },
      "source": [
        "pathForPlane = iter([[1000, 0, 20], [500, 0, 10], [0, 0, 0]])"
      ],
      "execution_count": 7,
      "outputs": []
    },
    {
      "cell_type": "code",
      "metadata": {
        "id": "D-UTa90lula0"
      },
      "source": [
        "planeState0 = computeState(1500, 0, 20, 100, 0, 20)"
      ],
      "execution_count": 10,
      "outputs": []
    },
    {
      "cell_type": "code",
      "metadata": {
        "id": "7KFiuJZftVsY"
      },
      "source": [
        "planeModel = definePlane(pathToFlyThrough=pathForPlane)\r\n",
        "planeSolver = simpleODESolver(planeModel, 0, planeState0, 1e300, 0.0625)"
      ],
      "execution_count": 11,
      "outputs": []
    },
    {
      "cell_type": "code",
      "metadata": {
        "id": "Fotg8rinunXt"
      },
      "source": [
        "planeId = sim.AttachODESolver(planeSolver)"
      ],
      "execution_count": null,
      "outputs": []
    },
    {
      "cell_type": "markdown",
      "metadata": {
        "id": "fWEJSKrbu6qZ"
      },
      "source": [
        "### Příprava pro transformaci dat"
      ]
    },
    {
      "cell_type": "code",
      "metadata": {
        "id": "GVZE35pVu-WD"
      },
      "source": [
        "masterMap = {\r\n",
        "    'plane_': lambda item: item[planeId]\r\n",
        "}"
      ],
      "execution_count": null,
      "outputs": []
    },
    {
      "cell_type": "code",
      "metadata": {
        "id": "sOMS9bTQvAxL"
      },
      "source": [
        "dataDescriptor = {\r\n",
        "    't': lambda item: item['state']['time'],\r\n",
        "    'x': lambda item: item['state']['y'][0],\r\n",
        "    'y': lambda item: item['state']['y'][1],\r\n",
        "    'z': lambda item: item['state']['y'][2]\r\n",
        "}"
      ],
      "execution_count": null,
      "outputs": []
    },
    {
      "cell_type": "markdown",
      "metadata": {
        "id": "BKG6uLlkuNoY"
      },
      "source": [
        "### Cyklus simulace"
      ]
    },
    {
      "cell_type": "code",
      "metadata": {
        "id": "hTHMJVQtuQkf"
      },
      "source": [
        "results = []\r\n",
        "for index, currentResult in enumerate(sim.Run()):\r\n",
        "    partialResult = dataSelector(currentResult)\r\n",
        "    results.append(partialResult)\r\n",
        "    if index >= 5:\r\n",
        "        break"
      ],
      "execution_count": null,
      "outputs": []
    },
    {
      "cell_type": "markdown",
      "metadata": {
        "id": "oyOkUxJhvS97"
      },
      "source": [
        "### Zpracování dat"
      ]
    },
    {
      "cell_type": "code",
      "metadata": {
        "id": "BlOxKt45vWJT"
      },
      "source": [
        "import pandas as pd\r\n",
        "\r\n",
        "def displayData(data):\r\n",
        "    df = pd.DataFrame(data)\r\n",
        "    display(df)"
      ],
      "execution_count": null,
      "outputs": []
    },
    {
      "cell_type": "code",
      "metadata": {
        "id": "9quTHQNuvZC0"
      },
      "source": [
        "displayData(results)"
      ],
      "execution_count": null,
      "outputs": []
    }
  ]
}