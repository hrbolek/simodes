{
  "nbformat": 4,
  "nbformat_minor": 0,
  "metadata": {
    "colab": {
      "name": "examplesBcz.ipynb",
      "provenance": [],
      "authorship_tag": "ABX9TyO1Yn+zAT/oAaM8Dxov97bF",
      "include_colab_link": true
    },
    "kernelspec": {
      "name": "python3",
      "display_name": "Python 3"
    }
  },
  "cells": [
    {
      "cell_type": "markdown",
      "metadata": {
        "id": "view-in-github",
        "colab_type": "text"
      },
      "source": [
        "<a href=\"https://colab.research.google.com/github/hrbolek/simodes/blob/main/notebooks/examplesBcz.ipynb\" target=\"_parent\"><img src=\"https://colab.research.google.com/assets/colab-badge.svg\" alt=\"Open In Colab\"/></a>"
      ]
    },
    {
      "cell_type": "markdown",
      "metadata": {
        "id": "IuAku5uosyxL"
      },
      "source": [
        "# Pokročilé příklady použití simodes"
      ]
    },
    {
      "cell_type": "code",
      "metadata": {
        "id": "OsriOLBlsHFD",
        "outputId": "fcfd9acf-1316-417b-c845-0947c8b8ca6f",
        "colab": {
          "base_uri": "https://localhost:8080/"
        }
      },
      "source": [
        "!pip install simodes"
      ],
      "execution_count": 1,
      "outputs": [
        {
          "output_type": "stream",
          "text": [
            "Collecting simodes\n",
            "  Downloading https://files.pythonhosted.org/packages/11/55/f8ec3fc29e8c84337a809f23a98560ebcaddf9b6790b30cbf866f7b7aa5d/simodes-0.7.tar.gz\n",
            "Requirement already satisfied: scipy in /usr/local/lib/python3.6/dist-packages (from simodes) (1.4.1)\n",
            "Requirement already satisfied: numpy>=1.13.3 in /usr/local/lib/python3.6/dist-packages (from scipy->simodes) (1.19.5)\n",
            "Building wheels for collected packages: simodes\n",
            "  Building wheel for simodes (setup.py) ... \u001b[?25l\u001b[?25hdone\n",
            "  Created wheel for simodes: filename=simodes-0.7-cp36-none-any.whl size=8190 sha256=81bf6ebce96808414907525b9c0cb0c0ae9b0480ed51b3ad5c8c76ba1d8a6b61\n",
            "  Stored in directory: /root/.cache/pip/wheels/08/c2/46/7d5a5e782f37198585781299372a257b1ed9361bb8f288741e\n",
            "Successfully built simodes\n",
            "Installing collected packages: simodes\n",
            "Successfully installed simodes-0.7\n"
          ],
          "name": "stdout"
        }
      ]
    },
    {
      "cell_type": "markdown",
      "metadata": {
        "id": "RPZB_yKGs9fw"
      },
      "source": [
        "## Příklad A"
      ]
    },
    {
      "cell_type": "markdown",
      "metadata": {
        "id": "SDAfqgCstF-M"
      },
      "source": [
        "### Importy z knihovny "
      ]
    },
    {
      "cell_type": "markdown",
      "metadata": {
        "id": "GWKFHLIqtMJ-"
      },
      "source": [
        ""
      ]
    },
    {
      "cell_type": "code",
      "metadata": {
        "id": "j3tholNesUhl"
      },
      "source": [
        "import simodes\r\n",
        "from simodes import Simulator\r\n",
        "from simodes import simpleODESolver\r\n",
        "from simodes.models import definePlane"
      ],
      "execution_count": 5,
      "outputs": []
    },
    {
      "cell_type": "markdown",
      "metadata": {
        "id": "ejOjT0D3tNIT"
      },
      "source": [
        "### Inicializace simulace"
      ]
    },
    {
      "cell_type": "code",
      "metadata": {
        "id": "kU_Fc4B6tCe6",
        "outputId": "2c699609-7ac9-4ef4-ae40-77a46cd252d5",
        "colab": {
          "base_uri": "https://localhost:8080/"
        }
      },
      "source": [
        "sim = Simulator()\r\n",
        "currentState = sim.GetState()\r\n",
        "print(currentState)"
      ],
      "execution_count": 6,
      "outputs": [
        {
          "output_type": "stream",
          "text": [
            "{'odeModels': {}, 'eventList': {'events': [], 'activeEvent': None}, 'logs': []}\n"
          ],
          "name": "stdout"
        }
      ]
    },
    {
      "cell_type": "markdown",
      "metadata": {
        "id": "xtARKjY4tS-Q"
      },
      "source": [
        "### Příprava modelu"
      ]
    },
    {
      "cell_type": "code",
      "metadata": {
        "id": "7KFiuJZftVsY"
      },
      "source": [
        "pathForPlane = iter([[1000, 0, 20], [500, 0, 10], [0, 0, 0]])\r\n",
        "planeState0 = computeState(1500, 0, 20, 100, 0, 0)\r\n",
        "\r\n",
        "planeModel = definePlane(pathToFlyThrough=pathForPlane)\r\n",
        "planeSolver = simpleODESolver(planeModel, 0, planeState0, 1e300, 0.0625)\r\n",
        "\r\n",
        "sim.AttachODESolver(planeSolver)"
      ],
      "execution_count": null,
      "outputs": []
    },
    {
      "cell_type": "markdown",
      "metadata": {
        "id": "BKG6uLlkuNoY"
      },
      "source": [
        "### Cyklus simulace"
      ]
    },
    {
      "cell_type": "code",
      "metadata": {
        "id": "hTHMJVQtuQkf"
      },
      "source": [
        ""
      ],
      "execution_count": null,
      "outputs": []
    }
  ]
}