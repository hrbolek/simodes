{
  "nbformat": 4,
  "nbformat_minor": 0,
  "metadata": {
    "colab": {
      "name": "simodes.ipynb",
      "provenance": [],
      "authorship_tag": "ABX9TyNDeoVpx6vEzKrjj8ogtsfa",
      "include_colab_link": true
    },
    "kernelspec": {
      "name": "python3",
      "display_name": "Python 3"
    },
    "language_info": {
      "name": "python"
    }
  },
  "cells": [
    {
      "cell_type": "markdown",
      "metadata": {
        "id": "view-in-github",
        "colab_type": "text"
      },
      "source": [
        "<a href=\"https://colab.research.google.com/github/hrbolek/simodes/blob/main/notebooks/experiments.ipynb\" target=\"_parent\"><img src=\"https://colab.research.google.com/assets/colab-badge.svg\" alt=\"Open In Colab\"/></a>"
      ]
    },
    {
      "cell_type": "code",
      "metadata": {
        "id": "T6jLApgCH8nc"
      },
      "source": [
        "def addLog(state, action):\n",
        "    logArray = state['logs']\n",
        "    if 'data' in action:\n",
        "        result = [*logArray, {'msg': action['msg'], **action['data']}]\n",
        "    else:\n",
        "        result = [*logArray, {'msg': action['msg']}]\n",
        "    return {**state, 'logs': result}"
      ],
      "execution_count": null,
      "outputs": []
    },
    {
      "cell_type": "code",
      "metadata": {
        "id": "ZHsV1hYgJE8b"
      },
      "source": [
        "def limitLog(state, action):\n",
        "    logArray = state['logs']\n",
        "    result = list(logArray[len(logArray)-action['lenght']:])\n",
        "    return {**state, 'logs': result}"
      ],
      "execution_count": null,
      "outputs": []
    },
    {
      "cell_type": "code",
      "metadata": {
        "id": "VaFkaO6WJS86"
      },
      "source": [
        "def addEvent(state, action):\n",
        "    eventList = [*state['eventList']['events'], \n",
        "        {'time': action['time'], 'executor': action['executor'], 'kwargs': action['kwargs']}\n",
        "             ]\n",
        "    eventList.sort(key = lambda item: item['time'])\n",
        "    result = {'events': eventList, 'activeEvent': state['eventList']['activeEvent']}\n",
        "    return {**state, 'eventList': result}"
      ],
      "execution_count": null,
      "outputs": []
    },
    {
      "cell_type": "code",
      "metadata": {
        "id": "UfwFKcilJkKS"
      },
      "source": [
        "def popEvent(state, action):\n",
        "    eventList = [*state['eventList']['events']]\n",
        "    if len(eventList) > 0:\n",
        "        oldestEvent = eventList.pop(0)\n",
        "    else:\n",
        "        oldestEvent = None\n",
        "    result = {'events': eventList, 'activeEvent': oldestEvent}\n",
        "    return {**state, 'eventList': result}"
      ],
      "execution_count": null,
      "outputs": []
    },
    {
      "cell_type": "code",
      "metadata": {
        "id": "67JIZ70zKiXH"
      },
      "source": [
        "defaultModelAttributes = {'destroyed': False, 'state': None}\n",
        "\n",
        "def setModelAttributes(allModels, id, **attributes):\n",
        "    modelRow = allModels[id]\n",
        "    result = {**allModels, id: {**modelRow, **attributes}}\n",
        "    return result\n",
        "\n",
        "def destroyODEModel(state, action):\n",
        "    id = action['modelId']\n",
        "    odeModels = setModelAttributes(state['odeModels'], id, destroyed=True)\n",
        "    return {**state, 'odeModels': odeModels}\n",
        "\n",
        "def setODEModelState(state, action):\n",
        "    id = action['modelId']\n",
        "    return {**state, 'odeModels': {**state['odeModels'], id: {**defaultModelAttributes, 'state': action['modelState']}}\n",
        "\n",
        "def changeODEModelState(state, action):\n",
        "    result = state['odeModels']\n",
        "    id = action['modelId']\n",
        "    if id in state:\n",
        "        result = setModelAttributes(allModels=result, id=id, state=action['modelState'])\n",
        "        return {**state, 'odeModels': result}\n",
        "    else:\n",
        "        return state\n",
        "\n",
        "def changeODEModelAttribute(state, action):\n",
        "    result = state\n",
        "    id = action['modelId']\n",
        "    if id in state:\n",
        "        result = setModelAttributes(allModels=state, id=id, **{action['attributeName']: action['attributeValue']})\n",
        "    return result"
      ],
      "execution_count": null,
      "outputs": []
    },
    {
      "cell_type": "markdown",
      "metadata": {
        "id": "kOy4ANdLJjDc"
      },
      "source": [
        ""
      ]
    }
  ]
}