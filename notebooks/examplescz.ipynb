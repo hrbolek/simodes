{
  "nbformat": 4,
  "nbformat_minor": 0,
  "metadata": {
    "kernelspec": {
      "display_name": "Python 3",
      "language": "python",
      "name": "python3"
    },
    "language_info": {
      "codemirror_mode": {
        "name": "ipython",
        "version": 3
      },
      "file_extension": ".py",
      "mimetype": "text/x-python",
      "name": "python",
      "nbconvert_exporter": "python",
      "pygments_lexer": "ipython3",
      "version": "3.8.5"
    },
    "colab": {
      "name": "simulationwithreduxexamples.ipynb",
      "provenance": [],
      "toc_visible": true,
      "include_colab_link": true
    }
  },
  "cells": [
    {
      "cell_type": "markdown",
      "metadata": {
        "id": "view-in-github",
        "colab_type": "text"
      },
      "source": [
        "<a href=\"https://colab.research.google.com/github/hrbolek/simodes/blob/main/notebooks/examplescz.ipynb\" target=\"_parent\"><img src=\"https://colab.research.google.com/assets/colab-badge.svg\" alt=\"Open In Colab\"/></a>"
      ]
    },
    {
      "cell_type": "markdown",
      "metadata": {
        "id": "sWBge7eF0l2N"
      },
      "source": [
        "# Příklad použití knihovny simodes"
      ]
    },
    {
      "cell_type": "markdown",
      "metadata": {
        "id": "ExUkAux3TUz7"
      },
      "source": [
        "Pro studium kódu v tomto textu jsou třeba znalosti jazyka Python, alespoň v základní úrovni. Pro samostudium lze doporučit tento odkaz: https://naucse.python.cz/"
      ]
    },
    {
      "cell_type": "markdown",
      "metadata": {
        "id": "Zs_ClbhH0l2X"
      },
      "source": [
        "V textu dále jsou pomocí tří příkladů demonstrovány základní funkcionality knihovny simodes, která poskytuje nástroje pro propojení simulací založených na modelech definovaných diferenciálními rovnicemi a simulací založených na událostech ([definice](https://cs.wikipedia.org/wiki/Diskr%C3%A9tn%C3%AD_simulace)).\n",
        "\n",
        "V poslední kapitole jsou uvedeny některé implementační detaily u vybraných funkcí."
      ]
    },
    {
      "cell_type": "code",
      "metadata": {
        "id": "hY-W14Wv0l2Z",
        "colab": {
          "base_uri": "https://localhost:8080/"
        },
        "outputId": "919d8884-ed12-4258-9d60-ea06cfb707ea"
      },
      "source": [
        "# instalace knihovny simodes\r\n",
        "!pip install simodes"
      ],
      "execution_count": 1,
      "outputs": [
        {
          "output_type": "stream",
          "text": [
            "Requirement already satisfied: simodes in /usr/local/lib/python3.6/dist-packages (0.7)\n",
            "Requirement already satisfied: scipy in /usr/local/lib/python3.6/dist-packages (from simodes) (1.4.1)\n",
            "Requirement already satisfied: numpy>=1.13.3 in /usr/local/lib/python3.6/dist-packages (from scipy->simodes) (1.19.5)\n"
          ],
          "name": "stdout"
        }
      ]
    },
    {
      "cell_type": "markdown",
      "metadata": {
        "id": "fyyy_7k20l2d"
      },
      "source": [
        "## Příklad A"
      ]
    },
    {
      "cell_type": "markdown",
      "metadata": {
        "id": "imdFpwDG0l2e"
      },
      "source": [
        "V tomto příkladě je ukázáno, jakým způsobem lze v simulaci pracovat s modelem definovaným pomocí diferenciální rovnice."
      ]
    },
    {
      "cell_type": "markdown",
      "metadata": {
        "id": "1v32x19S0l2f"
      },
      "source": [
        "### Importy z knihovny"
      ]
    },
    {
      "cell_type": "markdown",
      "metadata": {
        "id": "900QE6jpUhrY"
      },
      "source": [
        "V textu dále budou využity funkce ```simpleODESolver```, ```createDataSelector``` a třída ```Simulator```. Je nutné tyto prvky z knihovny simodes naimportovat, což dělá následující segment kódu."
      ]
    },
    {
      "cell_type": "code",
      "metadata": {
        "id": "BFmuqh-L0l2h"
      },
      "source": [
        "import simodes\n",
        "from simodes import Simulator\n",
        "from simodes import simpleODESolver\n",
        "from simodes import createDataSelector\n",
        "#print(dir(simodes))"
      ],
      "execution_count": 2,
      "outputs": []
    },
    {
      "cell_type": "markdown",
      "metadata": {
        "id": "X3L3bBHD0l2h"
      },
      "source": [
        "### Inicializace simulace"
      ]
    },
    {
      "cell_type": "markdown",
      "metadata": {
        "id": "TvFfBI0A0l2i"
      },
      "source": [
        "Simulační prostředí je závislé na třídě ```Simulator```. Vytvořením její instance dostáváme k dispozici veškeré metody, které jsou nezbytné pro událostní ([DES](https://en.wikipedia.org/wiki/Discrete-event_simulation)) simulaci a simulaci založené na diferenciálních rovnicích ([ODE](https://cs.wikipedia.org/wiki/Oby%C4%8Dejn%C3%A1_diferenci%C3%A1ln%C3%AD_rovnice)).\r\n",
        "\r\n",
        "Důležitou vlastností třídy ```Simulator``` je, že uchovává veškeré informace o simulaci v jedné datové struktuře. Tuto datovou strukturu je možné získat voláním metody ```GetState()```, jak je demonstrováno níže."
      ]
    },
    {
      "cell_type": "code",
      "metadata": {
        "id": "M7EbCtTm0l2i",
        "colab": {
          "base_uri": "https://localhost:8080/"
        },
        "outputId": "fd5c4c8d-3387-422c-d95c-aa48cbb0e2e8"
      },
      "source": [
        "sim = Simulator()              # inicializace simulace\n",
        "currentState = sim.GetState()  # získání aktuálního stavu simulace\n",
        "print(currentState)            # výpis aktuálního stavu simulace"
      ],
      "execution_count": 3,
      "outputs": [
        {
          "output_type": "stream",
          "text": [
            "{'odeModels': {}, 'eventList': {'events': [], 'activeEvent': None}, 'logs': []}\n"
          ],
          "name": "stdout"
        }
      ]
    },
    {
      "cell_type": "markdown",
      "metadata": {
        "id": "XIpSIo5EXQ8L"
      },
      "source": [
        "Datová struktura má tři prvky\r\n",
        "\r\n",
        "- ```odeModels```\r\n",
        "- ```eventList```\r\n",
        "- ```logs```\r\n",
        "\r\n",
        "Tyto prvky uchovávají jednotlivé informace takto\r\n",
        "\r\n",
        "- ```odeModels``` informaci o stavu modelů popsaných diferenciálními rovnicemi.\r\n",
        "```odeModels``` je v této fázi prázdný"
      ]
    },
    {
      "cell_type": "code",
      "metadata": {
        "colab": {
          "base_uri": "https://localhost:8080/"
        },
        "id": "Vq3-EnSQhaoy",
        "outputId": "6a7216a1-878a-40b9-e6b9-4a8ff59eb537"
      },
      "source": [
        "print(currentState['odeModels'])"
      ],
      "execution_count": 4,
      "outputs": [
        {
          "output_type": "stream",
          "text": [
            "{}\n"
          ],
          "name": "stdout"
        }
      ]
    },
    {
      "cell_type": "markdown",
      "metadata": {
        "id": "kA7H10PyhnWF"
      },
      "source": [
        "- ```eventList``` informaci o plánovaných událostech. ```eventList``` obsahuje substruktury ```events``` a ```activeEvent```.\r\n"
      ]
    },
    {
      "cell_type": "code",
      "metadata": {
        "colab": {
          "base_uri": "https://localhost:8080/"
        },
        "id": "7O-uqXL9he5j",
        "outputId": "50fec174-eec9-4622-8cef-f840522b512d"
      },
      "source": [
        "print(currentState['eventList'])"
      ],
      "execution_count": 5,
      "outputs": [
        {
          "output_type": "stream",
          "text": [
            "{'events': [], 'activeEvent': None}\n"
          ],
          "name": "stdout"
        }
      ]
    },
    {
      "cell_type": "markdown",
      "metadata": {
        "id": "hqItOdiehoRP"
      },
      "source": [
        "- ```logs``` spravuje zprávy vzniklé při běhu simulace (tzv. logy). ```logs``` je v této fázi prázdný."
      ]
    },
    {
      "cell_type": "code",
      "metadata": {
        "colab": {
          "base_uri": "https://localhost:8080/"
        },
        "id": "LsjhI5n0hfH6",
        "outputId": "5897e124-36a9-4c30-db16-dd06d72b0dbd"
      },
      "source": [
        "print(currentState['logs'])"
      ],
      "execution_count": 6,
      "outputs": [
        {
          "output_type": "stream",
          "text": [
            "[]\n"
          ],
          "name": "stdout"
        }
      ]
    },
    {
      "cell_type": "markdown",
      "metadata": {
        "id": "NjDHCfFW0l2k"
      },
      "source": [
        "### Definice modelu"
      ]
    },
    {
      "cell_type": "markdown",
      "metadata": {
        "id": "BeAio_z60l2m"
      },
      "source": [
        "V případě, kdy se jedná o simulaci založenou na modelech popsaných diferenciálními rovnicemi, je nutné tyto modely definovat. \r\n",
        "\r\n",
        "Odpovídající matematickou definici modelu je možné vyjádřit rovnicí\r\n",
        "\r\n",
        "$$\\dot x = f(t,x)$$\r\n",
        "\r\n",
        "$x$ je stavem modelu a ten je typicky vektorem, $t$ je časem simulace.\r\n",
        "\r\n",
        "Odpovídající funkce v jazyku Python (mimochodem, Matlab využívá stejné definice) vypadá takto:\r\n",
        "\r\n",
        "```python\r\n",
        "def f(t, x):\r\n",
        "    ...\r\n",
        "    return dx\r\n",
        "```\r\n",
        "\r\n",
        "Zatímco na jménech parametrů nezáleží, na jejich pořadí ano. Velmi často se místo ```x``` používá ```state```.\r\n",
        "\r\n",
        "V těle funkce Pythonu musí být spočítána derivace ```x``` a vrácena jako návratová hodnota. Jak bylo uvedeno dříve, téměř vždy se z matematického hlediska jedná o vektor. Vektor je v jazyku Python vyjádřen jako [list](https://naucse.python.cz/2018/tieto/beginners/tieto-lists/).\r\n",
        "\r\n"
      ]
    },
    {
      "cell_type": "markdown",
      "metadata": {
        "id": "ixEtJLuaZ6mq"
      },
      "source": [
        "Pro potřeby demonstrace využití knihovny ```simodes``` použijeme model pohybu hmotného bodu v gravitačním poli Země (bez vlivu atmosféry). Pro jednoduchost budeme uvažovat jen dvě souřadnice, přičemž jedna z nich určuje dálku a druhá výšku.\r\n",
        "\r\n",
        "Odpovídající diferenciální rovnice pro dálku má následující tvar\r\n",
        "\r\n",
        "$$\\dot s_x = v_x$$ \r\n",
        "\r\n",
        "$$\\dot v_x = 0$$\r\n",
        "\r\n",
        "Pohyb v ose dálka je rovnoměrný bez zrychlení ($a=0$).\r\n",
        "\r\n",
        "Obdobně diferenciální rovnice pro výšku má následující tvar\r\n",
        "\r\n",
        "$$\\dot s_y = v_y$$ \r\n",
        "\r\n",
        "$$\\dot v_y = -g$$\r\n",
        "\r\n",
        "Pohyb v ose výška je ovlivněn gravitací. Protože gravitační zrychlení je orientováno opačně, než výška, má zápornou hodnotu ($g=-9.81$).\r\n",
        "\r\n",
        "Z výše uvedeného vyplývá, že máme 4 stavové proměnné, nebo že stav je čtyřprvkový vektor.\r\n",
        "\r\n",
        "$$\\begin{pmatrix}\r\n",
        "s_x \\\\\r\n",
        "s_y \\\\\r\n",
        "v_x \\\\\r\n",
        "v_y \\\\\r\n",
        "\\end{pmatrix}$$\r\n",
        "\r\n",
        "Uspořádání prvků stavu je důležité pro práci se stavem v průběhu simulace. Model / uspořádání prvků stavu určuje uspořádání prvků ve vektoru v průběhu simulace. Jelikož je zde zvoleno, že na prvních dvou místech jsou $s_x$ a $s_y$, budou první dva prvky vektoru určovat polohu.\r\n",
        "\r\n",
        "Derivaci potom můžeme vyjádřit jako\r\n",
        "\r\n",
        "$$\\begin{pmatrix}\r\n",
        "\\dot s_x \\\\\r\n",
        "\\dot s_y \\\\\r\n",
        "\\dot v_x \\\\\r\n",
        "\\dot v_y \\\\\r\n",
        "\\end{pmatrix}=\r\n",
        "\\begin{pmatrix}\r\n",
        "v_x \\\\\r\n",
        "v_y \\\\\r\n",
        "0 \\\\\r\n",
        "g \\\\\r\n",
        "\\end{pmatrix}$$\r\n",
        "\r\n",
        "Všimněte si, že pro výpočet derivace není nutné znát čas.\r\n"
      ]
    },
    {
      "cell_type": "markdown",
      "metadata": {
        "id": "CwzYf69wdPrg"
      },
      "source": [
        "Výše uvedený model vyjádřený jako algoritmus výpočtu derivace stavu vyjádřený v Pythonu je uveden níže."
      ]
    },
    {
      "cell_type": "code",
      "metadata": {
        "id": "0fS_UH_ceXpY"
      },
      "source": [
        "def model2D(time, state):\r\n",
        "    sx = state[0]\r\n",
        "    sy = state[1]\r\n",
        "    vx = state[2]\r\n",
        "    vy = state[3]\r\n",
        "    return [vx, vy, 0, -9.81]"
      ],
      "execution_count": 7,
      "outputs": []
    },
    {
      "cell_type": "markdown",
      "metadata": {
        "id": "I5ZFSM5vejNn"
      },
      "source": [
        "Optimální vyjádření stejného modelu je uvedeno dále"
      ]
    },
    {
      "cell_type": "code",
      "metadata": {
        "id": "H0D5lojb0l2n"
      },
      "source": [
        "def model2D(time, state):\n",
        "    return [state[2], state[3], 0, -9.81]"
      ],
      "execution_count": 8,
      "outputs": []
    },
    {
      "cell_type": "markdown",
      "metadata": {
        "id": "5ms2fz5M0l2o"
      },
      "source": [
        "### Zanesení modelu do simulace"
      ]
    },
    {
      "cell_type": "markdown",
      "metadata": {
        "id": "_Ab4XSJSe9Nl"
      },
      "source": [
        "Je-li model definován, je možné vytvořit instanci jen pokud známe další informace. V rámci knihovny jsou, vedle modelu, požadovány:\r\n",
        "\r\n",
        "- čas zahájení simulace\r\n",
        "- počáteční stav modelu\r\n",
        "- mezní čas výpočtu (velmi často jej budete uvádět $10^{300}[s]$, což je prakticky nekonečno)\r\n",
        "- maximální krok řešení (typicky $0.0625 [s]$)\r\n",
        "\r\n",
        "Zavedení modelu do simulace se provádí pomocí funkcí ```simpleODESolver``` a ```AttachODESolver```.\r\n",
        "\r\n",
        "```simpleODESolver``` z modelu (```model2D```), počátečního času (```0```), počátečního stavu (```[0, 0, 10, 10]```), mezního času (```1e300```) a maximálního kroku (```0.0625.```) vytvoří strukturu ```solverA```\r\n"
      ]
    },
    {
      "cell_type": "code",
      "metadata": {
        "id": "hed2px4agMoi"
      },
      "source": [
        "solverA = simpleODESolver(\r\n",
        "    model2D, 0, state0=[0, 0, 10, 10], t_bound=1e300, max_step=0.0625)"
      ],
      "execution_count": 9,
      "outputs": []
    },
    {
      "cell_type": "markdown",
      "metadata": {
        "id": "AKoYu-hGgo4r"
      },
      "source": [
        "```solverA``` je potom možno vložit do simulace pomocí metody ```AttachODESolver```."
      ]
    },
    {
      "cell_type": "code",
      "metadata": {
        "id": "f_BH73V7g0dj"
      },
      "source": [
        "modelIdA = sim.AttachODESolver(solverA)"
      ],
      "execution_count": 10,
      "outputs": []
    },
    {
      "cell_type": "markdown",
      "metadata": {
        "id": "mVcI2X8Tg7Eo"
      },
      "source": [
        "```modelIdA``` je textový identifikátor, který jednoznačně identifikuje model v simulaci a lze s jeho pomocí zjišťovat stav modelu."
      ]
    },
    {
      "cell_type": "code",
      "metadata": {
        "colab": {
          "base_uri": "https://localhost:8080/"
        },
        "id": "S43UHCkxhMi8",
        "outputId": "3923ceac-059e-449f-f1a7-0136cbe777cd"
      },
      "source": [
        "print(modelIdA)"
      ],
      "execution_count": 11,
      "outputs": [
        {
          "output_type": "stream",
          "text": [
            "zsxmzamfvu\n"
          ],
          "name": "stdout"
        }
      ]
    },
    {
      "cell_type": "markdown",
      "metadata": {
        "id": "BNlu1AKcjnuc"
      },
      "source": [
        "Zjištění informací o modelu."
      ]
    },
    {
      "cell_type": "code",
      "metadata": {
        "colab": {
          "base_uri": "https://localhost:8080/"
        },
        "id": "YKU8uMtMjrVD",
        "outputId": "7ad46c1d-e156-48a9-fbd8-3f00791ee324"
      },
      "source": [
        "currentState = sim.GetState() # získání aktuálního stavu simulace\r\n",
        "dataODEModelu = currentState['odeModels'] # všechny modely\r\n",
        "dataModelIdA = dataODEModelu[modelIdA] # model definovaný identifikátorem\r\n",
        "print(dataModelIdA)           # výpis informací o modelu"
      ],
      "execution_count": 12,
      "outputs": [
        {
          "output_type": "stream",
          "text": [
            "{'destroyed': False, 'state': {'time': 0, 'y': [0, 0, 10, 10], 'yd': [10, 10, 0, -9.81]}}\n"
          ],
          "name": "stdout"
        }
      ]
    },
    {
      "cell_type": "markdown",
      "metadata": {
        "id": "EckFq9OJkcN5"
      },
      "source": [
        "Kompletní stav modelu má dílčí prvky, ze kterých lze vyčíst např. čas, stav, či derivaci stavu. Ze stavu lze v tomto případě určit polohu a rychlost."
      ]
    },
    {
      "cell_type": "code",
      "metadata": {
        "colab": {
          "base_uri": "https://localhost:8080/"
        },
        "id": "O-J1XZkmkbma",
        "outputId": "18ac4e9e-3393-4a45-dbf4-629de04fa6e8"
      },
      "source": [
        "modelIdAStav = dataModelIdA['state']['y']\r\n",
        "print(modelIdAStav)"
      ],
      "execution_count": 13,
      "outputs": [
        {
          "output_type": "stream",
          "text": [
            "[0, 0, 10, 10]\n"
          ],
          "name": "stdout"
        }
      ]
    },
    {
      "cell_type": "markdown",
      "metadata": {
        "id": "Z4N4YHyZlHzA"
      },
      "source": [
        "Protože v simulaci nebyl proveden ještě žádný krok, je stav modelu roven počátečnímu stavu. Význam jednotlivých prvků vypsaného stavu je dán diferenciální rovnicí a jejím převedením do jazyka Python. \r\n",
        "\r\n",
        "V tomto konkrétním případě je poloha $s=(0;0)$ a rychlost $v=(10;10)$."
      ]
    },
    {
      "cell_type": "markdown",
      "metadata": {
        "id": "u5S35NXd0l2o"
      },
      "source": [
        "V simulaci lze současně zpracovávat více ODE modelů, v tomto případě jsou to dva se stejnou diferenciální rovnicí."
      ]
    },
    {
      "cell_type": "code",
      "metadata": {
        "id": "bdfL3jym0l2q",
        "colab": {
          "base_uri": "https://localhost:8080/"
        },
        "outputId": "44d7015d-03f6-4b67-f39a-64214acdfb41"
      },
      "source": [
        "solverB = simpleODESolver(\n",
        "    model2D, 0, state0=[100, 0, -10, 10], t_bound=1e300, max_step=0.0625)\n",
        "modelIdB = sim.AttachODESolver(solverB)\n",
        "print(modelIdB)"
      ],
      "execution_count": 14,
      "outputs": [
        {
          "output_type": "stream",
          "text": [
            "egbziwfmqd\n"
          ],
          "name": "stdout"
        }
      ]
    },
    {
      "cell_type": "markdown",
      "metadata": {
        "id": "zIMrauM6lvTV"
      },
      "source": [
        "Získání informace o druhém modelu."
      ]
    },
    {
      "cell_type": "code",
      "metadata": {
        "colab": {
          "base_uri": "https://localhost:8080/"
        },
        "id": "nHmsTR4ElzRh",
        "outputId": "d578ae11-7719-4699-cafc-f02be29513b4"
      },
      "source": [
        "currentState = sim.GetState() # získání aktuálního stavu simulace\r\n",
        "dataODEModelu = currentState['odeModels'] # všechny modely\r\n",
        "dataModelIdB = dataODEModelu[modelIdB] # model definovaný identifikátorem\r\n",
        "print(dataModelIdB)           # výpis informací o modelu\r\n",
        "\r\n",
        "modelIdBStav = dataModelIdB['state']['y']\r\n",
        "print(modelIdBStav) # výpis stavu modelu"
      ],
      "execution_count": 15,
      "outputs": [
        {
          "output_type": "stream",
          "text": [
            "{'destroyed': False, 'state': {'time': 0, 'y': [100, 0, -10, 10], 'yd': [-10, 10, 0, -9.81]}}\n",
            "[100, 0, -10, 10]\n"
          ],
          "name": "stdout"
        }
      ]
    },
    {
      "cell_type": "markdown",
      "metadata": {
        "id": "CaXMm15SmJEl"
      },
      "source": [
        "Je-li třeba zjistit seznam všech modelů v simulaci lze to realizovat pomocí následujícího kódu."
      ]
    },
    {
      "cell_type": "code",
      "metadata": {
        "colab": {
          "base_uri": "https://localhost:8080/"
        },
        "id": "zfqH2C7Ul2B2",
        "outputId": "be64828d-02da-46a2-ac4c-0d553b7c9705"
      },
      "source": [
        "currentState = sim.GetState() # získání aktuálního stavu simulace\r\n",
        "dataODEModelu = currentState['odeModels'] # všechny modely\r\n",
        "\r\n",
        "for key, value in dataODEModelu.items(): # projdi modely\r\n",
        "    print(key) # vypiš identifikátor modelu"
      ],
      "execution_count": 16,
      "outputs": [
        {
          "output_type": "stream",
          "text": [
            "zsxmzamfvu\n",
            "egbziwfmqd\n"
          ],
          "name": "stdout"
        }
      ]
    },
    {
      "cell_type": "markdown",
      "metadata": {
        "id": "UZGA7SuPmhPt"
      },
      "source": [
        "Je-li třeba zjistit jejich stavy, je možné použít následující kód."
      ]
    },
    {
      "cell_type": "code",
      "metadata": {
        "colab": {
          "base_uri": "https://localhost:8080/"
        },
        "id": "jV3txImjmssT",
        "outputId": "538ceffb-b66f-42e7-d8c4-106fdf511956"
      },
      "source": [
        "currentState = sim.GetState() # získání aktuálního stavu simulace\r\n",
        "dataODEModelu = currentState['odeModels'] # všechny modely\r\n",
        "\r\n",
        "for key, value in dataODEModelu.items(): # projdi modely\r\n",
        "    stav = dataODEModelu[key]['state']['y'] # zjisti stav\r\n",
        "    print(key, ':\\t', stav) # vypiš identifikátor a stav"
      ],
      "execution_count": 17,
      "outputs": [
        {
          "output_type": "stream",
          "text": [
            "zsxmzamfvu :\t [0, 0, 10, 10]\n",
            "egbziwfmqd :\t [100, 0, -10, 10]\n"
          ],
          "name": "stdout"
        }
      ]
    },
    {
      "cell_type": "markdown",
      "metadata": {
        "id": "inFanW-Z0l23"
      },
      "source": [
        "### Příprava metod pro transformaci dat"
      ]
    },
    {
      "cell_type": "markdown",
      "metadata": {
        "id": "qeyRIvp6n9KQ"
      },
      "source": [
        "V předchozí části bylo ukázáno, jak lze k datům o stavu ODE modelů přistupovat. Pro zjednodušení zde existuje pomocná funkce ```createDataSelector```. K plnému porozumění je vhodné znát tzv. lambda funkce ([zde](https://www.fzu.cz/~dominecf/porg/lekce20.html))."
      ]
    },
    {
      "cell_type": "markdown",
      "metadata": {
        "id": "25s9a9tqoz7_"
      },
      "source": [
        "V předchozí části bylo ukázáno, jak lze získat informace o modelu, je-li znám jeho identifikátor."
      ]
    },
    {
      "cell_type": "code",
      "metadata": {
        "colab": {
          "base_uri": "https://localhost:8080/"
        },
        "id": "WAfy_Z6Vo_wZ",
        "outputId": "10cc28f0-b77f-402d-b5eb-827fc419c60d"
      },
      "source": [
        "currentState = sim.GetState() # získání aktuálního stavu simulace\r\n",
        "dataODEModelu = currentState['odeModels'] # všechny modely\r\n",
        "dataModelIdA = dataODEModelu[modelIdA] # model definovaný identifikátorem\r\n",
        "print(dataModelIdA)           # výpis informací o modelu"
      ],
      "execution_count": 18,
      "outputs": [
        {
          "output_type": "stream",
          "text": [
            "{'destroyed': False, 'state': {'time': 0, 'y': [0, 0, 10, 10], 'yd': [10, 10, 0, -9.81]}}\n"
          ],
          "name": "stdout"
        }
      ]
    },
    {
      "cell_type": "markdown",
      "metadata": {
        "id": "I7GH0dzj0l25"
      },
      "source": [
        "Velmi často z těchto informací chceme vybrat jen specifické informace. Následující funkce vybere souřadnici x modelu.\r\n",
        "\r\n"
      ]
    },
    {
      "cell_type": "code",
      "metadata": {
        "id": "FQDrQ7TDqy7T"
      },
      "source": [
        "def x(item):\r\n",
        "    return item['state']['y'][0]"
      ],
      "execution_count": 19,
      "outputs": []
    },
    {
      "cell_type": "markdown",
      "metadata": {
        "id": "7jArTWJcq5DT"
      },
      "source": [
        "Demonstrace funkčnosti."
      ]
    },
    {
      "cell_type": "code",
      "metadata": {
        "colab": {
          "base_uri": "https://localhost:8080/"
        },
        "id": "PfkSWTpVq79B",
        "outputId": "36aaacef-6ac9-47cf-8025-76581ae98f4f"
      },
      "source": [
        "currentState = sim.GetState() # získání aktuálního stavu simulace\r\n",
        "dataODEModelu = currentState['odeModels'] # všechny modely\r\n",
        "dataModelIdA = dataODEModelu[modelIdA] # model definovaný identifikátorem\r\n",
        "\r\n",
        "print(x(dataModelIdA)) # výpis souřadnice x"
      ],
      "execution_count": 20,
      "outputs": [
        {
          "output_type": "stream",
          "text": [
            "0\n"
          ],
          "name": "stdout"
        }
      ]
    },
    {
      "cell_type": "markdown",
      "metadata": {
        "id": "MjGjfVPnrIaS"
      },
      "source": [
        "Funkci\r\n",
        "```python\r\n",
        "def x(item):\r\n",
        "    return item['state']['y'][0]\r\n",
        "```\r\n",
        "\r\n",
        "Lze pomocí lambda funkce napsat ve tvaru."
      ]
    },
    {
      "cell_type": "code",
      "metadata": {
        "id": "zt2FpJwErSAN"
      },
      "source": [
        "x = lambda item: item['state']['y'][0]"
      ],
      "execution_count": 21,
      "outputs": []
    },
    {
      "cell_type": "markdown",
      "metadata": {
        "id": "1whBuU5krYrc"
      },
      "source": [
        "Důkaz funkčnosti."
      ]
    },
    {
      "cell_type": "code",
      "metadata": {
        "colab": {
          "base_uri": "https://localhost:8080/"
        },
        "id": "9nBA38pgrbHH",
        "outputId": "91d450d6-e0e2-4c75-e694-32ab179e9f6d"
      },
      "source": [
        "currentState = sim.GetState() # získání aktuálního stavu simulace\r\n",
        "dataODEModelu = currentState['odeModels'] # všechny modely\r\n",
        "dataModelIdA = dataODEModelu[modelIdA] # model definovaný identifikátorem\r\n",
        "\r\n",
        "print(x(dataModelIdA)) # výpis souřadnice x"
      ],
      "execution_count": 22,
      "outputs": [
        {
          "output_type": "stream",
          "text": [
            "0\n"
          ],
          "name": "stdout"
        }
      ]
    },
    {
      "cell_type": "markdown",
      "metadata": {
        "id": "6U5xASpDrezF"
      },
      "source": [
        "Takových funkcí lze vytvořit celou řadu. Je vhodné je odpovídajícím způsobem pojmenovat a uspořádat do datové struktury (ano funkce může být datovým prvkem a to nejen v Pythonu, ale třeba i v [Javascriptu](https://developer.mozilla.org/en-US/docs/Web/JavaScript/Reference/Functions/Arrow_functions)).\r\n",
        "\r\n",
        "Níže je zavedena proměnná ```dataDescriptor``` slouží pro extrakci vybraných parametrů entit. V tomto případě se jedná o čas a první dva prvky stavu modelu, které představují souřadnice x a y."
      ]
    },
    {
      "cell_type": "code",
      "metadata": {
        "id": "Yma7YrWr0l25"
      },
      "source": [
        "dataDescriptor = {\n",
        "    't': lambda item: item['state']['time'],\n",
        "    'x': lambda item: item['state']['y'][0],\n",
        "    'y': lambda item: item['state']['y'][1]\n",
        "}"
      ],
      "execution_count": 23,
      "outputs": []
    },
    {
      "cell_type": "markdown",
      "metadata": {
        "id": "KMfQTmk8qfjO"
      },
      "source": [
        "Proměnná ```dataDescriptor``` by mohla být využita na všechny modely v simulaci za předpokladu, že jejich stavová diferenciální rovnice pracuje se stavy stejné struktury (první dva prvky stavu obsahují souřadnice $x$ a $y$).\r\n",
        "\r\n",
        "Aby to celé dobře fungovalo, je nutné ještě definovat, na které modely v simulaci chceme toto použít. Toto realizujeme pomocí proměnné ```masterMap``` definující, které modely jsou v simulaci sledovány. Názvy ```bulletA_``` a ```bulletB_``` se použijí později.\r\n",
        "\r\n",
        "Všimněte si, že ve funkcích jsou použity uložené identifikátory ```modelIdA``` a ```modelIdB```."
      ]
    },
    {
      "cell_type": "code",
      "metadata": {
        "id": "6iHfQXCA0l24"
      },
      "source": [
        "masterMap = {\n",
        "    'bulletA_': lambda item: item[modelIdA],\n",
        "    'bulletB_': lambda item: item[modelIdB],\n",
        "}"
      ],
      "execution_count": 24,
      "outputs": []
    },
    {
      "cell_type": "markdown",
      "metadata": {
        "id": "K2enHP-10l25"
      },
      "source": [
        "Proveďmě si rekapitulaci. Proměnná ```dataDescriptor``` popisuje, jaká data chceme dostat z modelů, zatímco proměnná ```masterMap``` popisujte, které modely nás zajímají.\r\n",
        "\r\n",
        "Na základě definovaných proměnných ```masterMap``` a ```dataDescriptor``` je vytvořena, s pomocí ```createDataSelector``` funkce  ```dataSelector```, která  bude využita v průběhu simulace."
      ]
    },
    {
      "cell_type": "code",
      "metadata": {
        "id": "RxUpcebN0l27"
      },
      "source": [
        "dataSelector = createDataSelector(masterMap, dataDescriptor)"
      ],
      "execution_count": 25,
      "outputs": []
    },
    {
      "cell_type": "markdown",
      "metadata": {
        "id": "ezmqh8Wx0l27"
      },
      "source": [
        "Demonstrace využití ```dataSelector```, kdy z celých dat je vybrána je požadovaná část."
      ]
    },
    {
      "cell_type": "code",
      "metadata": {
        "id": "xutnHBTK0l27",
        "colab": {
          "base_uri": "https://localhost:8080/"
        },
        "outputId": "45796617-919d-4ae3-b3e7-0467109e02cb"
      },
      "source": [
        "simData = sim.GetState() # kompletní informace o simulaci\n",
        "odeModelsData = simData['odeModels']  # výběr části o odeModelech\n",
        "selectedData = dataSelector(odeModelsData)  # výběr požadovaných informací\n",
        "print(selectedData)"
      ],
      "execution_count": 26,
      "outputs": [
        {
          "output_type": "stream",
          "text": [
            "{'bulletA_t': 0, 'bulletA_x': 0, 'bulletA_y': 0, 'bulletB_t': 0, 'bulletB_x': 100, 'bulletB_y': 0}\n"
          ],
          "name": "stdout"
        }
      ]
    },
    {
      "cell_type": "markdown",
      "metadata": {
        "id": "z3vazkNuuRGz"
      },
      "source": [
        "Všimněte si, že výstup obsahuje 6 položek, přičemž první tři mají předponu ```bulletA_``` a další tři ```bulletB_```. Srovnejte tuto skutečnost s definicí proměnné ```masterMap```. U první trojice a stejně tak u druhé trojice položky končí postupně názvy ```t```, ```x``` a ```y```. Srovnejte toto s definicí proměnné ```dataDescriptor```. Tyto názvy lze měnit podle potřeb."
      ]
    },
    {
      "cell_type": "markdown",
      "metadata": {
        "id": "a7U0w3ap0l28"
      },
      "source": [
        "### Cyklus simulace"
      ]
    },
    {
      "cell_type": "markdown",
      "metadata": {
        "id": "RJ7-agHS0l29"
      },
      "source": [
        "Před spuštěním cyklu simulace je inicializována proměnná ```results```, do které budou postupně vkládány výsledky simulace. \n",
        "\n",
        "> Pozor, níže použitý cyklus simulace může být nekonečný, je tedy potřeba definovat podmínku ukončení. V tomto konkrétním případě je simulace ukončena po 6 krocích. \n",
        "\n",
        "V každém kroku je z celkových dat simulace vybrána zájmová podmnožina pomocí funkce ```dataSelector``` a její výstup je vložen do pole results.\n",
        "Cyklus simulace, jak je definován níže, obsahuje v proměnné ```index``` číslo kroku a ```currentResult``` informace o stavu všech modelů v simulaci."
      ]
    },
    {
      "cell_type": "code",
      "metadata": {
        "id": "0JptPds40l29"
      },
      "source": [
        "results = [] # inicializace proměnné pro ukládání výsledků\n",
        "for index, currentResult in enumerate(sim.Run()):\n",
        "    partialResult = dataSelector(currentResult) # výběr podmnožiny informací\n",
        "    results.append(partialResult) # vložení podmnožiny k výsledkům\n",
        "    if index >= 5: # po definovaném počtu kroků\n",
        "        break # ukonči cyklus simulace"
      ],
      "execution_count": 27,
      "outputs": []
    },
    {
      "cell_type": "markdown",
      "metadata": {
        "id": "SOzR5ptJ0l2_"
      },
      "source": [
        "Po ukončení cyklu simulace je možné vypsat souhrnné výsledky."
      ]
    },
    {
      "cell_type": "code",
      "metadata": {
        "id": "U9YO9_1F0l2_",
        "colab": {
          "base_uri": "https://localhost:8080/"
        },
        "outputId": "f955f16b-8198-4778-9969-b8cce889ae7e"
      },
      "source": [
        "print(results)"
      ],
      "execution_count": 28,
      "outputs": [
        {
          "output_type": "stream",
          "text": [
            "[{'bulletA_t': 0, 'bulletA_x': 0, 'bulletA_y': 0, 'bulletB_t': 0, 'bulletB_x': 100, 'bulletB_y': 0}, {'bulletA_t': 0, 'bulletA_x': 0, 'bulletA_y': 0, 'bulletB_t': 0, 'bulletB_x': 100, 'bulletB_y': 0}, {'bulletA_t': 9.999000075938193e-05, 'bulletA_x': 0.0009999000075938194, 'bulletA_y': 0.0009998509674025839, 'bulletB_t': 0, 'bulletB_x': 100, 'bulletB_y': 0}, {'bulletA_t': 9.999000075938193e-05, 'bulletA_x': 0.0009999000075938194, 'bulletA_y': 0.0009998509674025839, 'bulletB_t': 0.0001731929568755909, 'bulletB_x': 99.99826807043124, 'bulletB_y': 0.0017317824393553822}, {'bulletA_t': 0.0010998900083532014, 'bulletA_x': 0.010998900083532014, 'bulletA_y': 0.01099296622039253, 'bulletB_t': 0.0001731929568755909, 'bulletB_x': 99.99826807043124, 'bulletB_y': 0.0017317824393553822}, {'bulletA_t': 0.0010998900083532014, 'bulletA_x': 0.010998900083532014, 'bulletA_y': 0.01099296622039253, 'bulletB_t': 0.0019051225256315, 'bulletB_x': 99.98094877474368, 'bulletB_y': 0.019033422598851234}]\n"
          ],
          "name": "stdout"
        }
      ]
    },
    {
      "cell_type": "markdown",
      "metadata": {
        "id": "Vd0Az4ms0l2_"
      },
      "source": [
        "Výsledky lze zpracovat dalšími standardními postupy, například zobrazit jako tabulku."
      ]
    },
    {
      "cell_type": "code",
      "metadata": {
        "id": "Qc4JsakA0l3A"
      },
      "source": [
        "import pandas as pd # import pandas https://pandas.pydata.org/\n",
        "\n",
        "def displayData(data): # funkce pro zobrazení dat v tabulce\n",
        "    df = pd.DataFrame(data)\n",
        "    display(df)"
      ],
      "execution_count": 29,
      "outputs": []
    },
    {
      "cell_type": "code",
      "metadata": {
        "id": "tY5KdtjT0l3A",
        "colab": {
          "base_uri": "https://localhost:8080/",
          "height": 238
        },
        "outputId": "f09ec3e1-f3b0-4d69-969a-cc993c7a5c98"
      },
      "source": [
        "displayData(results) # zobraz uložené výsledky"
      ],
      "execution_count": 30,
      "outputs": [
        {
          "output_type": "display_data",
          "data": {
            "text/html": [
              "<div>\n",
              "<style scoped>\n",
              "    .dataframe tbody tr th:only-of-type {\n",
              "        vertical-align: middle;\n",
              "    }\n",
              "\n",
              "    .dataframe tbody tr th {\n",
              "        vertical-align: top;\n",
              "    }\n",
              "\n",
              "    .dataframe thead th {\n",
              "        text-align: right;\n",
              "    }\n",
              "</style>\n",
              "<table border=\"1\" class=\"dataframe\">\n",
              "  <thead>\n",
              "    <tr style=\"text-align: right;\">\n",
              "      <th></th>\n",
              "      <th>bulletA_t</th>\n",
              "      <th>bulletA_x</th>\n",
              "      <th>bulletA_y</th>\n",
              "      <th>bulletB_t</th>\n",
              "      <th>bulletB_x</th>\n",
              "      <th>bulletB_y</th>\n",
              "    </tr>\n",
              "  </thead>\n",
              "  <tbody>\n",
              "    <tr>\n",
              "      <th>0</th>\n",
              "      <td>0.0000</td>\n",
              "      <td>0.000000</td>\n",
              "      <td>0.000000</td>\n",
              "      <td>0.000000</td>\n",
              "      <td>100.000000</td>\n",
              "      <td>0.000000</td>\n",
              "    </tr>\n",
              "    <tr>\n",
              "      <th>1</th>\n",
              "      <td>0.0000</td>\n",
              "      <td>0.000000</td>\n",
              "      <td>0.000000</td>\n",
              "      <td>0.000000</td>\n",
              "      <td>100.000000</td>\n",
              "      <td>0.000000</td>\n",
              "    </tr>\n",
              "    <tr>\n",
              "      <th>2</th>\n",
              "      <td>0.0001</td>\n",
              "      <td>0.001000</td>\n",
              "      <td>0.001000</td>\n",
              "      <td>0.000000</td>\n",
              "      <td>100.000000</td>\n",
              "      <td>0.000000</td>\n",
              "    </tr>\n",
              "    <tr>\n",
              "      <th>3</th>\n",
              "      <td>0.0001</td>\n",
              "      <td>0.001000</td>\n",
              "      <td>0.001000</td>\n",
              "      <td>0.000173</td>\n",
              "      <td>99.998268</td>\n",
              "      <td>0.001732</td>\n",
              "    </tr>\n",
              "    <tr>\n",
              "      <th>4</th>\n",
              "      <td>0.0011</td>\n",
              "      <td>0.010999</td>\n",
              "      <td>0.010993</td>\n",
              "      <td>0.000173</td>\n",
              "      <td>99.998268</td>\n",
              "      <td>0.001732</td>\n",
              "    </tr>\n",
              "    <tr>\n",
              "      <th>5</th>\n",
              "      <td>0.0011</td>\n",
              "      <td>0.010999</td>\n",
              "      <td>0.010993</td>\n",
              "      <td>0.001905</td>\n",
              "      <td>99.980949</td>\n",
              "      <td>0.019033</td>\n",
              "    </tr>\n",
              "  </tbody>\n",
              "</table>\n",
              "</div>"
            ],
            "text/plain": [
              "   bulletA_t  bulletA_x  bulletA_y  bulletB_t   bulletB_x  bulletB_y\n",
              "0     0.0000   0.000000   0.000000   0.000000  100.000000   0.000000\n",
              "1     0.0000   0.000000   0.000000   0.000000  100.000000   0.000000\n",
              "2     0.0001   0.001000   0.001000   0.000000  100.000000   0.000000\n",
              "3     0.0001   0.001000   0.001000   0.000173   99.998268   0.001732\n",
              "4     0.0011   0.010999   0.010993   0.000173   99.998268   0.001732\n",
              "5     0.0011   0.010999   0.010993   0.001905   99.980949   0.019033"
            ]
          },
          "metadata": {
            "tags": []
          }
        }
      ]
    },
    {
      "cell_type": "markdown",
      "metadata": {
        "id": "wYB-5tdm0l3B"
      },
      "source": [
        "Protože se jedná o framework podporující událostní simulaci i simulaci založenou na ODE modelech, je zcela běžné, že se v tabulce objevují stejné časy. Současně je patřičné uvést, že v simulaci se \"pohybuje vždy jedním objektem\" a tedy časy objektů nemusí být synchronní."
      ]
    },
    {
      "cell_type": "markdown",
      "metadata": {
        "id": "_uImfinW0l3B"
      },
      "source": [
        "## Příklad B"
      ]
    },
    {
      "cell_type": "markdown",
      "metadata": {
        "id": "JKk5Em6T0l3B"
      },
      "source": [
        "V tomto příkladu je ukázáno, jak lze v simulaci pracovat s událostmi."
      ]
    },
    {
      "cell_type": "markdown",
      "metadata": {
        "id": "i0iLFYtY0l3C"
      },
      "source": [
        "### Importy z knihovny"
      ]
    },
    {
      "cell_type": "code",
      "metadata": {
        "id": "LfAR1r_s0l3C"
      },
      "source": [
        "import simodes\n",
        "from simodes import Simulator\n",
        "from simodes import simpleODESolver\n",
        "from simodes import createDataSelector\n",
        "#print(dir(simodes))"
      ],
      "execution_count": 31,
      "outputs": []
    },
    {
      "cell_type": "markdown",
      "metadata": {
        "id": "s9wkzFMQ0l3C"
      },
      "source": [
        "### Inicializace simulace"
      ]
    },
    {
      "cell_type": "markdown",
      "metadata": {
        "id": "xGYUiSje0l3D"
      },
      "source": [
        "Simulační prostředí je závislé na třídě Simulator. Vytvořením její instance dostáváme k dispozici veškeré metody, které jsou nezbytné pro událostní (DES) simulaci a simulaci založené na diferenciálních rovnicích (ODE)."
      ]
    },
    {
      "cell_type": "code",
      "metadata": {
        "id": "eOnk10w20l3E",
        "colab": {
          "base_uri": "https://localhost:8080/"
        },
        "outputId": "777cc42e-fa73-4975-f7c8-5b094002cda9"
      },
      "source": [
        "sim = Simulator()\n",
        "currentState = sim.GetState()\n",
        "print(currentState)"
      ],
      "execution_count": 32,
      "outputs": [
        {
          "output_type": "stream",
          "text": [
            "{'odeModels': {}, 'eventList': {'events': [], 'activeEvent': None}, 'logs': []}\n"
          ],
          "name": "stdout"
        }
      ]
    },
    {
      "cell_type": "markdown",
      "metadata": {
        "id": "bYnq0TiG0l3E"
      },
      "source": [
        "### Definice událostí v simulaci"
      ]
    },
    {
      "cell_type": "markdown",
      "metadata": {
        "id": "aLMq9Wle0l3E"
      },
      "source": [
        "V případě, kdy je se jedná o simulaci založenou na událostech, je nutné tyto události definovat. Událost je funkcí, jejímž prvním parametrem je čas. Níže definovaná událost / funkce jen vypíše informaci."
      ]
    },
    {
      "cell_type": "code",
      "metadata": {
        "id": "QG5MKPJX0l3E"
      },
      "source": [
        "def eventComeIn(time):\n",
        "    print(f'V {time}s nastala událost')"
      ],
      "execution_count": 33,
      "outputs": []
    },
    {
      "cell_type": "markdown",
      "metadata": {
        "id": "ELmT12090l3F"
      },
      "source": [
        "### Naplánování události v simulaci"
      ]
    },
    {
      "cell_type": "markdown",
      "metadata": {
        "id": "G22bcJsD0l3F"
      },
      "source": [
        "Prvním parametrem je čas, kdy k události dojde a druhým parametrem, které funkce bude v daném čase simulace vyvolána."
      ]
    },
    {
      "cell_type": "code",
      "metadata": {
        "id": "0oYrXaSu0l3F"
      },
      "source": [
        "sim.AddEvent(0, eventComeIn);"
      ],
      "execution_count": 34,
      "outputs": []
    },
    {
      "cell_type": "markdown",
      "metadata": {
        "id": "bPMgjrGf0l3H"
      },
      "source": [
        "### Definice událostí v simulaci II"
      ]
    },
    {
      "cell_type": "markdown",
      "metadata": {
        "id": "NVRYBC4C0l3I"
      },
      "source": [
        "Častějším typem události, než jaká byla demonstrována výše, je událost, na kterou navazuje další událost. Toto lze řešit naplánováním další události v rámci obsluhy aktuální události. Událost může mít více parametrů.\n",
        "\n",
        "> V simulaci lze samozřejmě definovat více typů událostí s různou obsluhou\n",
        "\n",
        "V příkladu je popsán systém hromadné obsluhy s frontou FIFO a jednou obslužnou linkou."
      ]
    },
    {
      "cell_type": "markdown",
      "metadata": {
        "id": "hOZh7ZTyxWgH"
      },
      "source": [
        "SHO s FIFO a jednou obslužnou linkou má události:\r\n",
        "\r\n",
        "- příchod prvku do systému (```eventComeInEx```)\r\n",
        "- pokus o zahájení obsluhy (```tryBeginService```)\r\n",
        "- ukončení obsluhy (```eventServiceEnd```)"
      ]
    },
    {
      "cell_type": "code",
      "metadata": {
        "id": "modFkQzO0l3I"
      },
      "source": [
        "import random\n",
        "\n",
        "queue = [] # proměnná pro frontu\n",
        "def eventComeInEx(time, addEvent):\n",
        "    print(f'At {time}s someone comes in') # tisk info\n",
        "    queue.append(time) # uložení do fronty\n",
        "    nextTime = time + random.uniform(1.5, 3) # čas dalšího příchodu\n",
        "    addEvent(nextTime, eventComeInEx, addEvent=addEvent) # naplánování dalšího příchodu\n",
        "    addEvent(time, tryBeginService, addEvent=addEvent) # naplánování pokusu o zahájení obsluhy\n",
        "    \n",
        "service = {'who': None} # proměnná pro obsazenost obsluhy\n",
        "def tryBeginService(time, addEvent):\n",
        "    if len(queue) > 0: # fronta není prázdná\n",
        "        if service['who'] is None: # obsluha je ready\n",
        "            timeIn = queue.pop() # první ve frontě\n",
        "            timeOut = timeIn + random.uniform(0.5, 2.5) # čas konce obsluhy\n",
        "            service['who'] = {'systemIn': timeIn, 'serviceBegin': time, 'systemOut': timeOut}\n",
        "            addEvent(timeOut, eventServiceEnd, addEvent=addEvent) # naplánování konce obsluhy\n",
        "            \n",
        "def eventServiceEnd(time, addEvent):\n",
        "    item = service['who'] # obsluhovaný prvek\n",
        "    print(f'At {time}s {item} leaves the system') # tisk info\n",
        "    service['who'] = None # uvolnění obsluhy\n",
        "    addEvent(time, tryBeginService, addEvent=addEvent) # naplánování pokusu o zahájení obsluhy\n",
        "    "
      ],
      "execution_count": 35,
      "outputs": []
    },
    {
      "cell_type": "markdown",
      "metadata": {
        "id": "tH3_Qk4x0l3J"
      },
      "source": [
        "### Naplánování události v simulaci"
      ]
    },
    {
      "cell_type": "markdown",
      "metadata": {
        "id": "unyjWna40l3J"
      },
      "source": [
        "V tomto případě událost je naplánována s extra parametrem ```addEvent```. Tento parametr je předán funkci, která událost obslouží (```eventComeInEx```)."
      ]
    },
    {
      "cell_type": "code",
      "metadata": {
        "id": "Tn28noxj0l3J"
      },
      "source": [
        "sim.AddEvent(0, eventComeInEx, addEvent=sim.AddEvent);"
      ],
      "execution_count": 36,
      "outputs": []
    },
    {
      "cell_type": "markdown",
      "metadata": {
        "id": "jxHAfxnN0l3K"
      },
      "source": [
        "### Cyklus simulace"
      ]
    },
    {
      "cell_type": "markdown",
      "metadata": {
        "id": "tUP52HCo0l3K"
      },
      "source": [
        "> Pozor, níže použitý cyklus simulace může být nekonečný, je tedy potřeba definovat podmínku ukončení. V tomto konkrétním případě je simulace ukončena nejpozději po 6 krocích. \r\n",
        "\r\n",
        "V událostech je použit přímé vypsání informací, proto zde při spuštění simulace nelze ovlivnit výstup."
      ]
    },
    {
      "cell_type": "code",
      "metadata": {
        "id": "4yAoICfS0l3L",
        "colab": {
          "base_uri": "https://localhost:8080/"
        },
        "outputId": "20c9f17f-cff5-4419-fe43-265865b956f4"
      },
      "source": [
        "for index, currentResult in enumerate(sim.Run()):\n",
        "    if index >= 5:\n",
        "        break"
      ],
      "execution_count": 37,
      "outputs": [
        {
          "output_type": "stream",
          "text": [
            "V 0s nastala událost\n",
            "At 0s someone comes in\n",
            "At 0.760979308325828s {'systemIn': 0, 'serviceBegin': 0, 'systemOut': 0.760979308325828} leaves the system\n",
            "At 2.658489484163905s someone comes in\n"
          ],
          "name": "stdout"
        }
      ]
    },
    {
      "cell_type": "markdown",
      "metadata": {
        "id": "IL9UzyjS0l3L"
      },
      "source": [
        "## Příklad C"
      ]
    },
    {
      "cell_type": "markdown",
      "metadata": {
        "id": "sOBgEPkz0l3M"
      },
      "source": [
        "V tomto příkladu je ukázáno jak v simulaci průběžně ukládat informace."
      ]
    },
    {
      "cell_type": "markdown",
      "metadata": {
        "id": "Jl_r2txd0l3M"
      },
      "source": [
        "### Importy z knihovny"
      ]
    },
    {
      "cell_type": "code",
      "metadata": {
        "id": "d38cba-v0l3M"
      },
      "source": [
        "import simodes\n",
        "from simodes import Simulator\n",
        "from simodes import simpleODESolver\n",
        "from simodes import createDataSelector\n",
        "#print(dir(simodes))"
      ],
      "execution_count": 38,
      "outputs": []
    },
    {
      "cell_type": "markdown",
      "metadata": {
        "id": "wQZ-kf6F0l3N"
      },
      "source": [
        "### Inicializace simulace"
      ]
    },
    {
      "cell_type": "markdown",
      "metadata": {
        "id": "zqHm932P0l3O"
      },
      "source": [
        "Simulační prostředí je závislé na třídě Simulator. Vytvořením její instance dostáváme k dispozici veškeré metody, které jsou nezbytné pro událostní (DES) simulaci a simulaci založené na diferenciálních rovnicích (ODE)."
      ]
    },
    {
      "cell_type": "code",
      "metadata": {
        "id": "5z7rHFXm0l3O",
        "colab": {
          "base_uri": "https://localhost:8080/"
        },
        "outputId": "8c692d39-190d-484d-daed-74a0adc569df"
      },
      "source": [
        "sim = Simulator()\n",
        "currentState = sim.GetState()\n",
        "print(currentState)"
      ],
      "execution_count": 39,
      "outputs": [
        {
          "output_type": "stream",
          "text": [
            "{'odeModels': {}, 'eventList': {'events': [], 'activeEvent': None}, 'logs': []}\n"
          ],
          "name": "stdout"
        }
      ]
    },
    {
      "cell_type": "markdown",
      "metadata": {
        "id": "YKwdFBEr0l3P"
      },
      "source": [
        "### Ukládání logů v simulaci"
      ]
    },
    {
      "cell_type": "markdown",
      "metadata": {
        "id": "oEsPKdxZ0l3P"
      },
      "source": [
        "Při obsluze události jsou ukládány informace do logu simulace.\n"
      ]
    },
    {
      "cell_type": "code",
      "metadata": {
        "colab": {
          "base_uri": "https://localhost:8080/"
        },
        "id": "z00w_2pxzCm5",
        "outputId": "1a13a6ed-f4aa-456f-c1f7-9e4c2dd5b70a"
      },
      "source": [
        "sim.AddLog('Demo')"
      ],
      "execution_count": 40,
      "outputs": [
        {
          "output_type": "execute_result",
          "data": {
            "text/plain": [
              "<simodes.simulation.Simulator at 0x7f15edaee240>"
            ]
          },
          "metadata": {
            "tags": []
          },
          "execution_count": 40
        }
      ]
    },
    {
      "cell_type": "markdown",
      "metadata": {
        "id": "4Vq2yNV3zJO2"
      },
      "source": [
        "Výpis logů lze provést následujícím způsobem."
      ]
    },
    {
      "cell_type": "code",
      "metadata": {
        "colab": {
          "base_uri": "https://localhost:8080/"
        },
        "id": "F7gu3ijVzQB7",
        "outputId": "93b7053f-64f7-455c-ca93-8093ce5269f7"
      },
      "source": [
        "fullInfo = sim.GetState()\r\n",
        "logs = fullInfo['logs']\r\n",
        "for item in logs:\r\n",
        "    print(item)"
      ],
      "execution_count": 41,
      "outputs": [
        {
          "output_type": "stream",
          "text": [
            "{'msg': 'Demo'}\n"
          ],
          "name": "stdout"
        }
      ]
    },
    {
      "cell_type": "markdown",
      "metadata": {
        "id": "DwpLA95JzhBL"
      },
      "source": [
        "> V simulaci lze ukládat různé typy logů. Ty jsou odlišeny ukládanými parametry."
      ]
    },
    {
      "cell_type": "code",
      "metadata": {
        "colab": {
          "base_uri": "https://localhost:8080/"
        },
        "id": "KYmwiPy0zprb",
        "outputId": "31d817bd-5ebf-484c-ba7f-ecbd6f3af466"
      },
      "source": [
        "sim.AddLog('Demo', time=10)"
      ],
      "execution_count": 42,
      "outputs": [
        {
          "output_type": "execute_result",
          "data": {
            "text/plain": [
              "<simodes.simulation.Simulator at 0x7f15edaee240>"
            ]
          },
          "metadata": {
            "tags": []
          },
          "execution_count": 42
        }
      ]
    },
    {
      "cell_type": "markdown",
      "metadata": {
        "id": "teW_3kW50l3T"
      },
      "source": [
        "### Výpis událostí"
      ]
    },
    {
      "cell_type": "markdown",
      "metadata": {
        "id": "6nFepQkS0l3U"
      },
      "source": [
        "Během simulace i po jejím ukončení lze provést výpis zaznamenaných událostí"
      ]
    },
    {
      "cell_type": "code",
      "metadata": {
        "colab": {
          "base_uri": "https://localhost:8080/"
        },
        "id": "8whl4cTTzuCg",
        "outputId": "08a3bef2-0f1c-4188-a239-eb8c626a5bf6"
      },
      "source": [
        "fullInfo = sim.GetState()\r\n",
        "logs = fullInfo['logs']\r\n",
        "for item in logs:\r\n",
        "    print(item)"
      ],
      "execution_count": 43,
      "outputs": [
        {
          "output_type": "stream",
          "text": [
            "{'msg': 'Demo'}\n",
            "{'msg': 'Demo', 'time': 10}\n"
          ],
          "name": "stdout"
        }
      ]
    },
    {
      "cell_type": "markdown",
      "metadata": {
        "id": "krHZgJP7z5z5"
      },
      "source": [
        "### Definice událostí v simulaci"
      ]
    },
    {
      "cell_type": "markdown",
      "metadata": {
        "id": "1jbmXf4zz-BV"
      },
      "source": [
        "Následující simulace je upraveným příkladem B, kdy informace jsou ukládány do logu místo přímého výstupu / tisku."
      ]
    },
    {
      "cell_type": "code",
      "metadata": {
        "id": "1BoZEXZx0l3Q"
      },
      "source": [
        "import random\n",
        "\n",
        "queue = []\n",
        "def eventComeInEx(time, addEvent, addLog):\n",
        "    addLog(f'At {time}s someone comes in', time=time)\n",
        "    queue.append(time)\n",
        "    nextTime = time + random.uniform(1.5, 3)\n",
        "    addEvent(nextTime, eventComeInEx, addEvent=addEvent, addLog=addLog)\n",
        "    addEvent(time, tryBeginService, addEvent=addEvent, addLog=addLog)\n",
        "    \n",
        "service = {'who': None}\n",
        "def tryBeginService(time, addEvent, addLog):\n",
        "    if len(queue) > 0: # queue is not empty\n",
        "        if service['who'] is None: # service is ready\n",
        "            timeIn = queue.pop()\n",
        "            timeOut = timeIn + random.uniform(0.5, 2.5)\n",
        "            service['who'] = {'systemIn': timeIn, 'serviceBegin': time, 'systemOut': timeOut}\n",
        "            addEvent(timeOut, eventServiceEnd, addEvent=addEvent, addLog=addLog)\n",
        "            \n",
        "            \n",
        "def eventServiceEnd(time, addEvent, addLog):\n",
        "    item = service['who']\n",
        "    \n",
        "    addLog(f'At {time}s item leaves the system', time=time, item=item)\n",
        "    service['who'] = None\n",
        "    addEvent(time, tryBeginService, addEvent=addEvent, addLog=addLog)\n",
        "    "
      ],
      "execution_count": 44,
      "outputs": []
    },
    {
      "cell_type": "markdown",
      "metadata": {
        "id": "93HPe63m0l3R"
      },
      "source": [
        "### Naplánování události v simulaci"
      ]
    },
    {
      "cell_type": "markdown",
      "metadata": {
        "id": "pH8rL1-o0l3R"
      },
      "source": [
        "V tomto případě událost je naplánována s extra parametrem ```addEvent``` a ```addLog```. Tyto parametry jsou předány funkci, která událost obslouží (```eventComeInEx```)."
      ]
    },
    {
      "cell_type": "code",
      "metadata": {
        "id": "oA1gQCpA0l3R",
        "colab": {
          "base_uri": "https://localhost:8080/"
        },
        "outputId": "40d75277-3cc9-4378-a421-7f0924ad56e6"
      },
      "source": [
        "sim.AddEvent(0, eventComeInEx, addEvent=sim.AddEvent, addLog=sim.AddLog)"
      ],
      "execution_count": 45,
      "outputs": [
        {
          "output_type": "execute_result",
          "data": {
            "text/plain": [
              "<simodes.simulation.Simulator at 0x7f15edaee240>"
            ]
          },
          "metadata": {
            "tags": []
          },
          "execution_count": 45
        }
      ]
    },
    {
      "cell_type": "markdown",
      "metadata": {
        "id": "bcG-AB5T0l3S"
      },
      "source": [
        "### Cyklus simulace"
      ]
    },
    {
      "cell_type": "markdown",
      "metadata": {
        "id": "lfqwxdb-0l3S"
      },
      "source": [
        "> Pozor, níže použitý cyklus simulace může být nekonečný, je tedy potřeba definovat podmínku ukončení. V tomto konkrétním případě je simulace ukončena nejpozději po 6 krocích. "
      ]
    },
    {
      "cell_type": "code",
      "metadata": {
        "id": "4klrsHJk0l3S"
      },
      "source": [
        "results = []\n",
        "for index, currentResult in enumerate(sim.Run()):\n",
        "    if index >= 5:\n",
        "        break"
      ],
      "execution_count": 46,
      "outputs": []
    },
    {
      "cell_type": "markdown",
      "metadata": {
        "id": "Trt8ydTX0fBF"
      },
      "source": [
        "### Výpis logů"
      ]
    },
    {
      "cell_type": "code",
      "metadata": {
        "id": "LC4sj6bQ0l3U",
        "colab": {
          "base_uri": "https://localhost:8080/"
        },
        "outputId": "1cbd9044-9e54-4650-a1d4-765bb8129f60"
      },
      "source": [
        "state = sim.GetState()\n",
        "logs = state['logs']\n",
        "for item in logs:\n",
        "    print(item)"
      ],
      "execution_count": 47,
      "outputs": [
        {
          "output_type": "stream",
          "text": [
            "{'msg': 'Demo'}\n",
            "{'msg': 'Demo', 'time': 10}\n",
            "{'msg': 'At 0s someone comes in', 'time': 0}\n",
            "{'msg': 'At 1.054290270457574s item leaves the system', 'time': 1.054290270457574, 'item': {'systemIn': 0, 'serviceBegin': 0, 'systemOut': 1.054290270457574}}\n",
            "{'msg': 'At 2.808281769800976s someone comes in', 'time': 2.808281769800976}\n"
          ],
          "name": "stdout"
        }
      ]
    },
    {
      "cell_type": "markdown",
      "metadata": {
        "id": "4Fc42QDV0l3W"
      },
      "source": [
        "## Imports and Special Functions"
      ]
    },
    {
      "cell_type": "markdown",
      "metadata": {
        "id": "o6mt8m6v0l3W"
      },
      "source": [
        "### createDataSelector Function"
      ]
    },
    {
      "cell_type": "markdown",
      "metadata": {
        "id": "P5KtPu-00l3W"
      },
      "source": [
        "Funkce ```createDataSelector``` slouží pro přípravu jednoduché transformace dat v průběhu simulace. Umožňuje z celkové informace o simulaci extrahovat jen dílčí prvky. Její použití je uvedeno v další části.\n",
        "\n",
        "> Implementaci není nutno studovat. Funkci je možné importovat přímo z knihovny."
      ]
    },
    {
      "cell_type": "code",
      "metadata": {
        "id": "3UaYxEtt0l3W"
      },
      "source": [
        "def createDataSelector(masterMaps, maps):\n",
        "    def extractor(dataItem):\n",
        "        result = {}\n",
        "        for masterName, masterFunc in masterMaps.items():\n",
        "            row = masterFunc(dataItem)\n",
        "            for name, func in maps.items():\n",
        "                result[masterName + name] = func(row)\n",
        "        return result\n",
        "    return extractor"
      ],
      "execution_count": 48,
      "outputs": []
    },
    {
      "cell_type": "markdown",
      "metadata": {
        "id": "AgYu3jMf7Qgf"
      },
      "source": [
        "Následující funkce transformuje data získaná v příkladech / simulacích do struktury, která je vhodná pro kreslení grafů."
      ]
    },
    {
      "cell_type": "code",
      "metadata": {
        "id": "G2XVuX8m6oiP"
      },
      "source": [
        "def fromArrayOfDictsToDictOfArrays(data):\r\n",
        "    first = data[0]\r\n",
        "    result = {}\r\n",
        "    for key, value in first.items():\r\n",
        "        result[key] = []\r\n",
        "    for row in data:\r\n",
        "        for key, value in row.items():\r\n",
        "            result[key].append(value)\r\n",
        "    return result"
      ],
      "execution_count": 49,
      "outputs": []
    },
    {
      "cell_type": "markdown",
      "metadata": {
        "id": "HLKNhlNR0l3X"
      },
      "source": [
        "### simpleODESolver Function"
      ]
    },
    {
      "cell_type": "markdown",
      "metadata": {
        "id": "JmTQ0jzP0l3X"
      },
      "source": [
        "Funkce ```simpleODESolver``` je funkcí, která na základě modelu, jeho počátečního stavu generuje v daném časové intervalu stavy modelu. Funkce je koncipována jako generátor a vrací jednotlivé stavy na vyžádání. Tato konkrétní implementace je založena na metodě RungeKutta. V případě potřeby lze implementaci změnit / zpřesnit. To ovšem obvykle, vzhledem ke způsobu práce simulačního prostředí s více modely, není třeba.\n",
        "\n",
        "> Implementaci není třeba studovat. Funkci je možné importovat přímo z knihovny."
      ]
    },
    {
      "cell_type": "code",
      "metadata": {
        "id": "INKojYk30l3X"
      },
      "source": [
        "import scipy.integrate as integrate # for numerical solution od differential equations\n",
        "\n",
        "def simpleODESolver(model, t0, state0, t_bound, max_step):\n",
        "    if not callable(model):\n",
        "        raise ValueError('Model must be callable')\n",
        "\n",
        "    solver = integrate.RK45(fun = model, t0 = t0, y0 = state0, t_bound = t_bound, max_step = max_step)\n",
        "    currentItem = {'time': solver.t, 'y': [*state0], 'yd': [*model(t0, state0)]}\n",
        "    while True:\n",
        "        yield currentItem # send signal, inform about current result\n",
        "        message = solver.step()\n",
        "        currentItem = {'time': solver.t, 'y': [*solver.y], 'yd': [*model(solver.t, solver.y)]}\n",
        "        if (not(solver.status == 'running')):\n",
        "            break"
      ],
      "execution_count": 50,
      "outputs": []
    }
  ]
}