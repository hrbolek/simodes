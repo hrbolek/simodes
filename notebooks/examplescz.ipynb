{
  "nbformat": 4,
  "nbformat_minor": 0,
  "metadata": {
    "kernelspec": {
      "display_name": "Python 3",
      "language": "python",
      "name": "python3"
    },
    "language_info": {
      "codemirror_mode": {
        "name": "ipython",
        "version": 3
      },
      "file_extension": ".py",
      "mimetype": "text/x-python",
      "name": "python",
      "nbconvert_exporter": "python",
      "pygments_lexer": "ipython3",
      "version": "3.8.5"
    },
    "colab": {
      "name": "simulationwithreduxexamples.ipynb",
      "provenance": [],
      "toc_visible": true,
      "include_colab_link": true
    }
  },
  "cells": [
    {
      "cell_type": "markdown",
      "metadata": {
        "id": "view-in-github",
        "colab_type": "text"
      },
      "source": [
        "<a href=\"https://colab.research.google.com/github/hrbolek/simodes/blob/main/notebooks/examplescz.ipynb\" target=\"_parent\"><img src=\"https://colab.research.google.com/assets/colab-badge.svg\" alt=\"Open In Colab\"/></a>"
      ]
    },
    {
      "cell_type": "markdown",
      "metadata": {
        "id": "sWBge7eF0l2N"
      },
      "source": [
        "# Examples of Simodes use"
      ]
    },
    {
      "cell_type": "markdown",
      "metadata": {
        "id": "ExUkAux3TUz7"
      },
      "source": [
        "Pro znalost / studium kódu v tomto textu je třeba znalosti jazyka Python, alespoň v základní úrovni. Pro samostudium lze doporučit tento odkaz: https://naucse.python.cz/"
      ]
    },
    {
      "cell_type": "markdown",
      "metadata": {
        "id": "Zs_ClbhH0l2X"
      },
      "source": [
        "V textu dále jsou pomocí tří příkladů demonstrovány základní funkcionality knihovny simodes, která poskytuje nástroje pro propojení simulací založených na modelech definovaných diferenciálními rovnicemi a simulací založených na [událostech](https://cs.wikipedia.org/wiki/Diskr%C3%A9tn%C3%AD_simulace).\n",
        "\n",
        "V poslední kapitole jsou uvedeny některé implementační detaily u vybraných funkcí."
      ]
    },
    {
      "cell_type": "code",
      "metadata": {
        "id": "hY-W14Wv0l2Z",
        "colab": {
          "base_uri": "https://localhost:8080/"
        },
        "outputId": "d3dc62c4-c840-4beb-9cd5-1b12bd697eb4"
      },
      "source": [
        "# instalace knihovny simodes\r\n",
        "!pip install simodes"
      ],
      "execution_count": 1,
      "outputs": [
        {
          "output_type": "stream",
          "text": [
            "Collecting simodes\n",
            "  Downloading https://files.pythonhosted.org/packages/11/55/f8ec3fc29e8c84337a809f23a98560ebcaddf9b6790b30cbf866f7b7aa5d/simodes-0.7.tar.gz\n",
            "Requirement already satisfied: scipy in /usr/local/lib/python3.6/dist-packages (from simodes) (1.4.1)\n",
            "Requirement already satisfied: numpy>=1.13.3 in /usr/local/lib/python3.6/dist-packages (from scipy->simodes) (1.19.5)\n",
            "Building wheels for collected packages: simodes\n",
            "  Building wheel for simodes (setup.py) ... \u001b[?25l\u001b[?25hdone\n",
            "  Created wheel for simodes: filename=simodes-0.7-cp36-none-any.whl size=8190 sha256=2ac8c5917e6e65a1131641aceb7cc3f26df0ca0a10c6b430face89d013a74903\n",
            "  Stored in directory: /root/.cache/pip/wheels/08/c2/46/7d5a5e782f37198585781299372a257b1ed9361bb8f288741e\n",
            "Successfully built simodes\n",
            "Installing collected packages: simodes\n",
            "Successfully installed simodes-0.7\n"
          ],
          "name": "stdout"
        }
      ]
    },
    {
      "cell_type": "markdown",
      "metadata": {
        "id": "fyyy_7k20l2d"
      },
      "source": [
        "## Příklad A"
      ]
    },
    {
      "cell_type": "markdown",
      "metadata": {
        "id": "imdFpwDG0l2e"
      },
      "source": [
        "V tomto příkladě je ukázáno, jakým způsobem lze v simulaci pracovat s modelem definovaným pomocí diferenciální rovnice."
      ]
    },
    {
      "cell_type": "markdown",
      "metadata": {
        "id": "1v32x19S0l2f"
      },
      "source": [
        "### Importy z knihovny"
      ]
    },
    {
      "cell_type": "markdown",
      "metadata": {
        "id": "900QE6jpUhrY"
      },
      "source": [
        "V textu dále budou využity funkce ```simpleODESolver```, ```createDataSelector``` a třída ```Simulator```. Je nutné tyto prvky z knihovny simodes naimportovat, což dělá následující segment kódu."
      ]
    },
    {
      "cell_type": "code",
      "metadata": {
        "id": "BFmuqh-L0l2h"
      },
      "source": [
        "import simodes\n",
        "from simodes import Simulator\n",
        "from simodes import simpleODESolver\n",
        "from simodes import createDataSelector\n",
        "#print(dir(simodes))"
      ],
      "execution_count": 2,
      "outputs": []
    },
    {
      "cell_type": "markdown",
      "metadata": {
        "id": "X3L3bBHD0l2h"
      },
      "source": [
        "### Inicializace simulace"
      ]
    },
    {
      "cell_type": "markdown",
      "metadata": {
        "id": "TvFfBI0A0l2i"
      },
      "source": [
        "Simulační prostředí je závislé na třídě ```Simulator```. Vytvořením její instance dostáváme k dispozici veškeré metody, které jsou nezbytné pro událostní ([DES](https://en.wikipedia.org/wiki/Discrete-event_simulation)) simulaci a simulaci založené na diferenciálních rovnicích ([ODE](https://cs.wikipedia.org/wiki/Oby%C4%8Dejn%C3%A1_diferenci%C3%A1ln%C3%AD_rovnice)).\r\n",
        "\r\n",
        "Důležitou vlastností třídy ```Simulator``` je, že uchovává veškeré informace o simulaci v jedné datové struktuře. Tuto datovou strukturu je možné získat voláním metody ```GetState()```, jak je demonstrováno níže."
      ]
    },
    {
      "cell_type": "code",
      "metadata": {
        "id": "M7EbCtTm0l2i",
        "colab": {
          "base_uri": "https://localhost:8080/"
        },
        "outputId": "60fd4ee4-f2f0-4850-d57d-5276d0cfbc35"
      },
      "source": [
        "sim = Simulator()              # inicializace simulace\n",
        "currentState = sim.GetState()  # získání aktuálního stavu simulace\n",
        "print(currentState)            # výpis aktuálního stavu simulace"
      ],
      "execution_count": 3,
      "outputs": [
        {
          "output_type": "stream",
          "text": [
            "{'odeModels': {}, 'eventList': {'events': [], 'activeEvent': None}, 'logs': []}\n"
          ],
          "name": "stdout"
        }
      ]
    },
    {
      "cell_type": "markdown",
      "metadata": {
        "id": "XIpSIo5EXQ8L"
      },
      "source": [
        "Datová struktura má tři prvky\r\n",
        "\r\n",
        "- ```odeModels```\r\n",
        "- ```eventList```\r\n",
        "- ```logs```\r\n",
        "\r\n",
        "Tyto prvky uchovávají jednotlivé informace takto\r\n",
        "\r\n",
        "- ```odeModels``` informaci o stavu modelů popsaných diferenciálními rovnicemi.\r\n",
        "```odeModels``` je v této fázi prázdný"
      ]
    },
    {
      "cell_type": "code",
      "metadata": {
        "colab": {
          "base_uri": "https://localhost:8080/"
        },
        "id": "Vq3-EnSQhaoy",
        "outputId": "0567ea5f-abce-4305-cb4e-be5325d93a0b"
      },
      "source": [
        "print(currentState['odeModels'])"
      ],
      "execution_count": 4,
      "outputs": [
        {
          "output_type": "stream",
          "text": [
            "{}\n"
          ],
          "name": "stdout"
        }
      ]
    },
    {
      "cell_type": "markdown",
      "metadata": {
        "id": "kA7H10PyhnWF"
      },
      "source": [
        "- ```eventList``` informaci o plánovaných událostech. ```eventList``` obsahuje substruktury ```events``` a ```activeEvent```.\r\n"
      ]
    },
    {
      "cell_type": "code",
      "metadata": {
        "colab": {
          "base_uri": "https://localhost:8080/"
        },
        "id": "7O-uqXL9he5j",
        "outputId": "a7c815d3-eb76-4028-929c-7e418b6dc5c7"
      },
      "source": [
        "print(currentState['eventList'])"
      ],
      "execution_count": 5,
      "outputs": [
        {
          "output_type": "stream",
          "text": [
            "{'events': [], 'activeEvent': None}\n"
          ],
          "name": "stdout"
        }
      ]
    },
    {
      "cell_type": "markdown",
      "metadata": {
        "id": "hqItOdiehoRP"
      },
      "source": [
        "- ```logs``` spravuje zprávy vzniklé při běhu simulace (tzv. logy). ```logs``` je v této fázi prázdý."
      ]
    },
    {
      "cell_type": "code",
      "metadata": {
        "colab": {
          "base_uri": "https://localhost:8080/"
        },
        "id": "LsjhI5n0hfH6",
        "outputId": "01049940-bd4c-4113-fed1-e7fde7be7817"
      },
      "source": [
        "print(currentState['logs'])"
      ],
      "execution_count": 6,
      "outputs": [
        {
          "output_type": "stream",
          "text": [
            "[]\n"
          ],
          "name": "stdout"
        }
      ]
    },
    {
      "cell_type": "markdown",
      "metadata": {
        "id": "NjDHCfFW0l2k"
      },
      "source": [
        "### Definice modelu"
      ]
    },
    {
      "cell_type": "markdown",
      "metadata": {
        "id": "BeAio_z60l2m"
      },
      "source": [
        "V případě, kdy se jedná o simulaci založenou na modelech popsaných diferenciálními rovnicemi, je nutné tyto modely definovat. \r\n",
        "\r\n",
        "Odpovídající matematickou definici modelu je možní vyjádřit rovnicí\r\n",
        "\r\n",
        "$$\\dot x = f(t,x)$$\r\n",
        "\r\n",
        "$x$ je stavem modelu a ten je typicky vektorem, $t$ je časem simulace.\r\n",
        "\r\n",
        "Odpovídající funkce v jazyku Python vypadá takto:\r\n",
        "\r\n",
        "```python\r\n",
        "def f(t, x):\r\n",
        "    ...\r\n",
        "    return dx\r\n",
        "```\r\n",
        "\r\n",
        "Zatímco na jménech parametrů nezáleží, na jejich pořadí ano. Velmi často se místo ```x``` používá ```state```.\r\n",
        "\r\n",
        "V těle funkce Pythonu musí být spočítána derivace ```x``` a vrácena jako návratová hodnota. Jak bylo uvedeno dříve, téměř vždy se z matematického hlediska jedná o vektor. Vektor je v jazyku Python vyjádřen jako [list](https://naucse.python.cz/2018/tieto/beginners/tieto-lists/).\r\n",
        "\r\n"
      ]
    },
    {
      "cell_type": "markdown",
      "metadata": {
        "id": "ixEtJLuaZ6mq"
      },
      "source": [
        "Pro potřeby demonstrace využití knihovny ```simodes``` použijeme model pohybu hmotného bodu v gravitačním poli Země (bez vlivu atmosféry). Pro jednoduchost budeme uvažovat jen dvě souřadnice, přičemž jedna z nich určuje dálku a druhá výšku.\r\n",
        "\r\n",
        "Odpovídající diferenciální rovnice pro dálku má následující tvar\r\n",
        "\r\n",
        "$$\\dot s_x = v_x$$ \r\n",
        "\r\n",
        "$$\\dot v_x = 0$$\r\n",
        "\r\n",
        "Pohyb v ose dálka je rovnoměrný bez zrychlení ($a=0$).\r\n",
        "\r\n",
        "Obdobně diferenciální rovnice pro výšku má následující tvar\r\n",
        "\r\n",
        "$$\\dot s_y = v_y$$ \r\n",
        "\r\n",
        "$$\\dot v_y = -g$$\r\n",
        "\r\n",
        "Pohyb v ose výška je ovlivněn gravitací. Protože gravitační zrychlení je orientováno opačně, než výška, má zápornou hodnotu ($g=-9.81$).\r\n",
        "\r\n",
        "Z výše uvedeného vyplývá, že máme 4 stavové proměnné, nebo že stav je čtyřprvkový vektor.\r\n",
        "\r\n",
        "\r\n",
        "$$\\begin{pmatrix}\r\n",
        "s_x \\\\\r\n",
        "s_y \\\\\r\n",
        "v_x \\\\\r\n",
        "v_y \\\\\r\n",
        "\\end{pmatrix}$$\r\n",
        "\r\n",
        "Derivaci potom můžeme vyjádřit jako\r\n",
        "\r\n",
        "$$\\begin{pmatrix}\r\n",
        "\\dot s_x \\\\\r\n",
        "\\dot s_y \\\\\r\n",
        "\\dot v_x \\\\\r\n",
        "\\dot v_y \\\\\r\n",
        "\\end{pmatrix}=\r\n",
        "\\begin{pmatrix}\r\n",
        "v_x \\\\\r\n",
        "v_y \\\\\r\n",
        "0 \\\\\r\n",
        "g \\\\\r\n",
        "\\end{pmatrix}$$\r\n",
        "\r\n",
        "Všimněte si, že pro výpočet derivace není nutné znát čas.\r\n"
      ]
    },
    {
      "cell_type": "markdown",
      "metadata": {
        "id": "CwzYf69wdPrg"
      },
      "source": [
        "Výše uvedený model vyjádřený jako algoritmus výpočtu derivace stavu vyjádřený v Pythonu je uveden níže."
      ]
    },
    {
      "cell_type": "code",
      "metadata": {
        "id": "0fS_UH_ceXpY"
      },
      "source": [
        "def model2D(time, state):\r\n",
        "    sx = state[0]\r\n",
        "    sy = state[1]\r\n",
        "    vx = state[2]\r\n",
        "    vy = state[3]\r\n",
        "    return [vx, vy, 0, -9.81]"
      ],
      "execution_count": 9,
      "outputs": []
    },
    {
      "cell_type": "markdown",
      "metadata": {
        "id": "I5ZFSM5vejNn"
      },
      "source": [
        "Optimální vyjádření stejného modelu je uvedeno dále"
      ]
    },
    {
      "cell_type": "code",
      "metadata": {
        "id": "H0D5lojb0l2n"
      },
      "source": [
        "def model2D(time, state):\n",
        "    return [state[2], state[3], 0, -9.81]"
      ],
      "execution_count": 10,
      "outputs": []
    },
    {
      "cell_type": "markdown",
      "metadata": {
        "id": "5ms2fz5M0l2o"
      },
      "source": [
        "### Zanesení modelu do simulace"
      ]
    },
    {
      "cell_type": "markdown",
      "metadata": {
        "id": "_Ab4XSJSe9Nl"
      },
      "source": [
        "Je-li model definován, je možné vytvořit instanci jen pokud, známe další informace. V rámci knihovny jsou, vedle modelu, požadovány:\r\n",
        "\r\n",
        "- čas zahájení simulace\r\n",
        "- počáteční stav modelu\r\n",
        "- mezní čas výpočtu (velmi často jej budete uvádět $10^{300}[s]$, což je prakticky nekonečno)\r\n",
        "- maximální krok řešení (typicky $0.0625 [s]$)\r\n",
        "\r\n",
        "Zavedení modelu do simulace se provádí pomocí funkcí ```simpleODESolver``` a ```AttachODESolver```.\r\n",
        "\r\n",
        "```simpleODESolver``` z modelu (```model2D```), počátečního času (```0```), počátečního stavu (```[0, 0, 10, 10]```), mezního času (```1e300```) a maximálního kroku (```0.0625.```) vytvoří strukturu ```solverA```\r\n"
      ]
    },
    {
      "cell_type": "code",
      "metadata": {
        "id": "hed2px4agMoi"
      },
      "source": [
        "solverA = simpleODESolver(\r\n",
        "    model2D, 0, state0=[0, 0, 10, 10], t_bound=1e300, max_step=0.0625)"
      ],
      "execution_count": 11,
      "outputs": []
    },
    {
      "cell_type": "markdown",
      "metadata": {
        "id": "AKoYu-hGgo4r"
      },
      "source": [
        "```solverA``` je potom možno vložit do simulace pomocí metody ```AttachODESolver```."
      ]
    },
    {
      "cell_type": "code",
      "metadata": {
        "id": "f_BH73V7g0dj"
      },
      "source": [
        "modelIdA = sim.AttachODESolver(solverA)"
      ],
      "execution_count": 12,
      "outputs": []
    },
    {
      "cell_type": "markdown",
      "metadata": {
        "id": "mVcI2X8Tg7Eo"
      },
      "source": [
        "```modelIdA``` je textový identifikátor, který jednoznačně identifikuje model v simulaci a lze s jeho pomocí zjišťovat stav modelu."
      ]
    },
    {
      "cell_type": "code",
      "metadata": {
        "colab": {
          "base_uri": "https://localhost:8080/"
        },
        "id": "S43UHCkxhMi8",
        "outputId": "11aac80a-3bce-4901-c875-3f7255ecc639"
      },
      "source": [
        "print(modelIdA)"
      ],
      "execution_count": 14,
      "outputs": [
        {
          "output_type": "stream",
          "text": [
            "ulknedlrkh\n"
          ],
          "name": "stdout"
        }
      ]
    },
    {
      "cell_type": "markdown",
      "metadata": {
        "id": "BNlu1AKcjnuc"
      },
      "source": [
        "Zjištění stavu modelu."
      ]
    },
    {
      "cell_type": "code",
      "metadata": {
        "colab": {
          "base_uri": "https://localhost:8080/"
        },
        "id": "YKU8uMtMjrVD",
        "outputId": "97a6f670-30c5-49d2-b88f-357002b7a821"
      },
      "source": [
        "currentState = sim.GetState() # získání aktuálního stavu simulace\r\n",
        "dataODEModelu = currentState['odeModels'] # všechny modely\r\n",
        "dataModelIdA = dataODEModelu[modelIdA] # model definovaný identifikátorem\r\n",
        "print(dataModelIdA)           # výpis informací o modelu"
      ],
      "execution_count": 18,
      "outputs": [
        {
          "output_type": "stream",
          "text": [
            "{'destroyed': False, 'state': {'time': 0, 'y': [0, 0, 10, 10], 'yd': [10, 10, 0, -9.81]}}\n"
          ],
          "name": "stdout"
        }
      ]
    },
    {
      "cell_type": "markdown",
      "metadata": {
        "id": "EckFq9OJkcN5"
      },
      "source": [
        "Kompletní stav modelu má dílčí prvky, ze kterých lze např. čas, stav, či derivaci stavu. Ze stavu lze v tomto případě určit polohu a rychlost."
      ]
    },
    {
      "cell_type": "code",
      "metadata": {
        "colab": {
          "base_uri": "https://localhost:8080/"
        },
        "id": "O-J1XZkmkbma",
        "outputId": "630acaca-6cff-4e5a-bab8-26c728d97d6b"
      },
      "source": [
        "modelIdAStav = dataModelIdA['state']['y']\r\n",
        "print(modelIdAStav)"
      ],
      "execution_count": 20,
      "outputs": [
        {
          "output_type": "stream",
          "text": [
            "[0, 0, 10, 10]\n"
          ],
          "name": "stdout"
        }
      ]
    },
    {
      "cell_type": "markdown",
      "metadata": {
        "id": "Z4N4YHyZlHzA"
      },
      "source": [
        "Protože v simulaci nebyl proveden ještě žádný krok, je stav modelu roven počátečnímu stavu. Význam jednotlivých prvků vypsaného stavu je dán diferenciální rovnicí a jejím převedením do jazyka Python. \r\n",
        "\r\n",
        "V tomto konkrétním případě je poloha $s=(0;0)$ a rychlost $v=(10;10)$."
      ]
    },
    {
      "cell_type": "markdown",
      "metadata": {
        "id": "u5S35NXd0l2o"
      },
      "source": [
        "V simulaci lze současně zpracovávat více ODE modelů, v tomto případě jsou to dva se stejnou diferenciální rovnicí."
      ]
    },
    {
      "cell_type": "code",
      "metadata": {
        "id": "bdfL3jym0l2q"
      },
      "source": [
        "solverB = simpleODESolver(\n",
        "    model2D, 0, state0=[100, 0, -10, 10], t_bound=1e300, max_step=0.0625)\n",
        "modelIdB = sim.AttachODESolver(solverB)"
      ],
      "execution_count": 23,
      "outputs": []
    },
    {
      "cell_type": "markdown",
      "metadata": {
        "id": "zIMrauM6lvTV"
      },
      "source": [
        "Získání informace o druhém modelu."
      ]
    },
    {
      "cell_type": "code",
      "metadata": {
        "colab": {
          "base_uri": "https://localhost:8080/"
        },
        "id": "nHmsTR4ElzRh",
        "outputId": "76c52fb9-9b3c-4f30-94f9-0e79f38d3ea6"
      },
      "source": [
        "currentState = sim.GetState() # získání aktuálního stavu simulace\r\n",
        "dataODEModelu = currentState['odeModels'] # všechny modely\r\n",
        "dataModelIdB = dataODEModelu[modelIdB] # model definovaný identifikátorem\r\n",
        "print(dataModelIdB)           # výpis informací o modelu\r\n",
        "\r\n",
        "modelIdBStav = dataModelIdB['state']['y']\r\n",
        "print(modelIdBStav)"
      ],
      "execution_count": 24,
      "outputs": [
        {
          "output_type": "stream",
          "text": [
            "{'destroyed': False, 'state': {'time': 0, 'y': [100, 0, -10, 10], 'yd': [-10, 10, 0, -9.81]}}\n",
            "[100, 0, -10, 10]\n"
          ],
          "name": "stdout"
        }
      ]
    },
    {
      "cell_type": "markdown",
      "metadata": {
        "id": "CaXMm15SmJEl"
      },
      "source": [
        "Je-li třeba zjistit seznam všech modelů v simulaci lze to realizovat pomocí následujícího kódu."
      ]
    },
    {
      "cell_type": "code",
      "metadata": {
        "colab": {
          "base_uri": "https://localhost:8080/"
        },
        "id": "zfqH2C7Ul2B2",
        "outputId": "cafb9c9b-b6ad-4f07-ceb9-7466b414a901"
      },
      "source": [
        "currentState = sim.GetState() # získání aktuálního stavu simulace\r\n",
        "dataODEModelu = currentState['odeModels'] # všechny modely\r\n",
        "\r\n",
        "for key, value in dataODEModelu.items():\r\n",
        "    print(key)"
      ],
      "execution_count": 25,
      "outputs": [
        {
          "output_type": "stream",
          "text": [
            "ulknedlrkh\n",
            "fvbxylxddp\n",
            "xvecvykzlb\n"
          ],
          "name": "stdout"
        }
      ]
    },
    {
      "cell_type": "markdown",
      "metadata": {
        "id": "UZGA7SuPmhPt"
      },
      "source": [
        "Je-li třeba zjistit jejich stavy, je možné použít následující kód."
      ]
    },
    {
      "cell_type": "code",
      "metadata": {
        "colab": {
          "base_uri": "https://localhost:8080/"
        },
        "id": "jV3txImjmssT",
        "outputId": "43dbca95-73ac-4983-fd6d-4f1f2cfe0675"
      },
      "source": [
        "currentState = sim.GetState() # získání aktuálního stavu simulace\r\n",
        "dataODEModelu = currentState['odeModels'] # všechny modely\r\n",
        "\r\n",
        "for key, value in dataODEModelu.items():\r\n",
        "    stav = dataODEModelu[key]['state']['y']\r\n",
        "    print(key, ':\\t', stav)"
      ],
      "execution_count": 27,
      "outputs": [
        {
          "output_type": "stream",
          "text": [
            "ulknedlrkh :\t [0, 0, 10, 10]\n",
            "fvbxylxddp :\t [0, 0, 10, 10]\n",
            "xvecvykzlb :\t [100, 0, -10, 10]\n"
          ],
          "name": "stdout"
        }
      ]
    },
    {
      "cell_type": "markdown",
      "metadata": {
        "id": "-lCatP7D0l22"
      },
      "source": [
        "Po vložení modelu lze zjistit stav. Data o simulaci lze získat voláním funkce ```sim.GetState()```.\n",
        "\n",
        "Pokud u modelu je atribut ```destroyed``` nastaven na hodnotu ```true```, simulace modelu je ukončena (model se již dále nebude pohybovat)."
      ]
    },
    {
      "cell_type": "code",
      "metadata": {
        "id": "B_jno4tu0l23",
        "outputId": "6ad45290-bd1d-4d7a-9b8c-ac325ad3d037"
      },
      "source": [
        "currentState = sim.GetState()\n",
        "print(currentState)"
      ],
      "execution_count": null,
      "outputs": [
        {
          "output_type": "stream",
          "text": [
            "{'odeModels': {'kkvpwgotvt': {'destroyed': False, 'state': {'time': 0, 'y': [0, 0, 10, 10], 'yd': [10, 10, 0, -9.81]}}, 'ojkozcquko': {'destroyed': False, 'state': {'time': 0, 'y': [0, 0, 10, 10], 'yd': [10, 10, 0, -9.81]}}}, 'eventList': {'events': [{'time': 0, 'executor': <function Simulator.AttachODESolver.<locals>.stepper at 0x7f140f6b2a60>, 'kwargs': {'state': {'time': 0, 'y': [0, 0, 10, 10], 'yd': [10, 10, 0, -9.81]}}}, {'time': 0, 'executor': <function Simulator.AttachODESolver.<locals>.stepper at 0x7f140f6b2ca0>, 'kwargs': {'state': {'time': 0, 'y': [0, 0, 10, 10], 'yd': [10, 10, 0, -9.81]}}}], 'activeEvent': None}, 'logs': []}\n"
          ],
          "name": "stdout"
        }
      ]
    },
    {
      "cell_type": "markdown",
      "metadata": {
        "id": "inFanW-Z0l23"
      },
      "source": [
        "### Příprava metod pro transformaci dat"
      ]
    },
    {
      "cell_type": "markdown",
      "metadata": {
        "id": "yS5kBDBx0l23"
      },
      "source": [
        "Identifikátory získané při zavedení modelu do simulace slouží pro extraci dat ze simulace. Jako podpůrný prvek lze využít funkci createDataSelector."
      ]
    },
    {
      "cell_type": "markdown",
      "metadata": {
        "id": "8Glm-lfq0l24"
      },
      "source": [
        "Proměnná ```masterMap``` definovaná níže definuje, které modely jsou v simulaci sledovány. Názvy ```bulletA_``` a ```bulletB_``` se použijí později."
      ]
    },
    {
      "cell_type": "code",
      "metadata": {
        "id": "6iHfQXCA0l24"
      },
      "source": [
        "masterMap = {\n",
        "    'bulletA_': lambda item: item[modelIdA],\n",
        "    'bulletB_': lambda item: item[modelIdB],\n",
        "}"
      ],
      "execution_count": null,
      "outputs": []
    },
    {
      "cell_type": "markdown",
      "metadata": {
        "id": "I7GH0dzj0l25"
      },
      "source": [
        "Proměnná ```dataDescriptor``` slouží pro extrakci vybraných parametrů entit. V tomto případě se jedná o čas a první dva prvky stavu modelu, které v našem případě představují souřadnice x a y."
      ]
    },
    {
      "cell_type": "code",
      "metadata": {
        "id": "Yma7YrWr0l25"
      },
      "source": [
        "dataDescriptor = {\n",
        "    't': lambda item: item['state']['time'],\n",
        "    'x': lambda item: item['state']['y'][0],\n",
        "    'y': lambda item: item['state']['y'][1]\n",
        "}"
      ],
      "execution_count": null,
      "outputs": []
    },
    {
      "cell_type": "markdown",
      "metadata": {
        "id": "K2enHP-10l25"
      },
      "source": [
        "Na základě definovaných proměnných ```masterMap``` a ```dataDescriptor``` je vytvořena funkce  ```dataSelector```, u které je předpoklad, že bude využita v průběhu simulace."
      ]
    },
    {
      "cell_type": "code",
      "metadata": {
        "id": "RxUpcebN0l27"
      },
      "source": [
        "dataSelector = createDataSelector(masterMap, dataDescriptor)"
      ],
      "execution_count": null,
      "outputs": []
    },
    {
      "cell_type": "markdown",
      "metadata": {
        "id": "ezmqh8Wx0l27"
      },
      "source": [
        "Demonstrace využití ```dataSelector```, kdy z celých dat je vybrána je požadovaná část."
      ]
    },
    {
      "cell_type": "code",
      "metadata": {
        "id": "xutnHBTK0l27",
        "outputId": "9ce53b67-1109-4136-a973-393941016a52"
      },
      "source": [
        "simData = sim.GetState()\n",
        "selectedData = dataSelector(simData['odeModels'])\n",
        "print(selectedData)"
      ],
      "execution_count": null,
      "outputs": [
        {
          "output_type": "stream",
          "text": [
            "{'bulletA_t': 0, 'bulletA_x': 0, 'bulletA_y': 0, 'bulletB_t': 0, 'bulletB_x': 0, 'bulletB_y': 0}\n"
          ],
          "name": "stdout"
        }
      ]
    },
    {
      "cell_type": "markdown",
      "metadata": {
        "id": "a7U0w3ap0l28"
      },
      "source": [
        "### Cyklus simulace"
      ]
    },
    {
      "cell_type": "markdown",
      "metadata": {
        "id": "RJ7-agHS0l29"
      },
      "source": [
        "Před spuštěním cyklu simulace je inicializována proměnná ```results```, do které budou postupně vkládány výsledky simulace. \n",
        "\n",
        "> Pozor, níže použitý cyklus simulace může být nekonečný, je tedy potřeba definovat podmínku ukončení. V tomto konkrétním případě je simulace ukončena po 6 krocích. \n",
        "\n",
        "V každém kroku je z celkových dat simulace vybrána zájmová podmnožina pomocí funkce ```dataSelector``` a její výstup je vložen do pole results.\n",
        "Cyklus simulace, jak je definován níže, obsahuje v proměnné ```index``` číslo kroku a ```currentResult``` informace o stavu všech modelů v simulaci."
      ]
    },
    {
      "cell_type": "code",
      "metadata": {
        "id": "0JptPds40l29"
      },
      "source": [
        "results = []\n",
        "for index, currentResult in enumerate(sim.Run()):\n",
        "    partialResult = dataSelector(currentResult)\n",
        "    results.append(partialResult)\n",
        "    if index >= 5:\n",
        "        break"
      ],
      "execution_count": null,
      "outputs": []
    },
    {
      "cell_type": "markdown",
      "metadata": {
        "id": "SOzR5ptJ0l2_"
      },
      "source": [
        "Po ukončení cyklu simulace je možné vypsat souhrnné výsledky."
      ]
    },
    {
      "cell_type": "code",
      "metadata": {
        "id": "U9YO9_1F0l2_",
        "outputId": "84b1d185-0d29-4fed-d829-fb1ac37aba54"
      },
      "source": [
        "print(results)"
      ],
      "execution_count": null,
      "outputs": [
        {
          "output_type": "stream",
          "text": [
            "[{'bulletA_t': 0, 'bulletA_x': 0, 'bulletA_y': 0, 'bulletB_t': 0, 'bulletB_x': 0, 'bulletB_y': 0}, {'bulletA_t': 0, 'bulletA_x': 0, 'bulletA_y': 0, 'bulletB_t': 0, 'bulletB_x': 0, 'bulletB_y': 0}, {'bulletA_t': 9.999000075938193e-05, 'bulletA_x': 0.0009999000075938194, 'bulletA_y': 0.0009998509674025836, 'bulletB_t': 0, 'bulletB_x': 0, 'bulletB_y': 0}, {'bulletA_t': 9.999000075938193e-05, 'bulletA_x': 0.0009999000075938194, 'bulletA_y': 0.0009998509674025836, 'bulletB_t': 9.999000075938193e-05, 'bulletB_x': 0.0009999000075938194, 'bulletB_y': 0.0009998509674025836}, {'bulletA_t': 0.0010998900083532014, 'bulletA_x': 0.010998900083532014, 'bulletA_y': 0.01099296622039253, 'bulletB_t': 9.999000075938193e-05, 'bulletB_x': 0.0009999000075938194, 'bulletB_y': 0.0009998509674025836}, {'bulletA_t': 0.0010998900083532014, 'bulletA_x': 0.010998900083532014, 'bulletA_y': 0.01099296622039253, 'bulletB_t': 0.0010998900083532014, 'bulletB_x': 0.010998900083532014, 'bulletB_y': 0.01099296622039253}]\n"
          ],
          "name": "stdout"
        }
      ]
    },
    {
      "cell_type": "markdown",
      "metadata": {
        "id": "Vd0Az4ms0l2_"
      },
      "source": [
        "Výsledky lze zpracovat dalšími standardními postupy, například zobrazit jako tabulku."
      ]
    },
    {
      "cell_type": "code",
      "metadata": {
        "id": "Qc4JsakA0l3A"
      },
      "source": [
        "import pandas as pd\n",
        "\n",
        "def displayData(data):\n",
        "    df = pd.DataFrame(data)\n",
        "    display(df)"
      ],
      "execution_count": null,
      "outputs": []
    },
    {
      "cell_type": "code",
      "metadata": {
        "id": "tY5KdtjT0l3A",
        "outputId": "0491755e-0a08-470f-ff21-d5b4e9ad0599"
      },
      "source": [
        "displayData(results)"
      ],
      "execution_count": null,
      "outputs": [
        {
          "output_type": "display_data",
          "data": {
            "text/html": [
              "<div>\n",
              "<style scoped>\n",
              "    .dataframe tbody tr th:only-of-type {\n",
              "        vertical-align: middle;\n",
              "    }\n",
              "\n",
              "    .dataframe tbody tr th {\n",
              "        vertical-align: top;\n",
              "    }\n",
              "\n",
              "    .dataframe thead th {\n",
              "        text-align: right;\n",
              "    }\n",
              "</style>\n",
              "<table border=\"1\" class=\"dataframe\">\n",
              "  <thead>\n",
              "    <tr style=\"text-align: right;\">\n",
              "      <th></th>\n",
              "      <th>bulletA_t</th>\n",
              "      <th>bulletA_x</th>\n",
              "      <th>bulletA_y</th>\n",
              "      <th>bulletB_t</th>\n",
              "      <th>bulletB_x</th>\n",
              "      <th>bulletB_y</th>\n",
              "    </tr>\n",
              "  </thead>\n",
              "  <tbody>\n",
              "    <tr>\n",
              "      <th>0</th>\n",
              "      <td>0.0000</td>\n",
              "      <td>0.000000</td>\n",
              "      <td>0.000000</td>\n",
              "      <td>0.0000</td>\n",
              "      <td>0.000000</td>\n",
              "      <td>0.000000</td>\n",
              "    </tr>\n",
              "    <tr>\n",
              "      <th>1</th>\n",
              "      <td>0.0000</td>\n",
              "      <td>0.000000</td>\n",
              "      <td>0.000000</td>\n",
              "      <td>0.0000</td>\n",
              "      <td>0.000000</td>\n",
              "      <td>0.000000</td>\n",
              "    </tr>\n",
              "    <tr>\n",
              "      <th>2</th>\n",
              "      <td>0.0001</td>\n",
              "      <td>0.001000</td>\n",
              "      <td>0.001000</td>\n",
              "      <td>0.0000</td>\n",
              "      <td>0.000000</td>\n",
              "      <td>0.000000</td>\n",
              "    </tr>\n",
              "    <tr>\n",
              "      <th>3</th>\n",
              "      <td>0.0001</td>\n",
              "      <td>0.001000</td>\n",
              "      <td>0.001000</td>\n",
              "      <td>0.0001</td>\n",
              "      <td>0.001000</td>\n",
              "      <td>0.001000</td>\n",
              "    </tr>\n",
              "    <tr>\n",
              "      <th>4</th>\n",
              "      <td>0.0011</td>\n",
              "      <td>0.010999</td>\n",
              "      <td>0.010993</td>\n",
              "      <td>0.0001</td>\n",
              "      <td>0.001000</td>\n",
              "      <td>0.001000</td>\n",
              "    </tr>\n",
              "    <tr>\n",
              "      <th>5</th>\n",
              "      <td>0.0011</td>\n",
              "      <td>0.010999</td>\n",
              "      <td>0.010993</td>\n",
              "      <td>0.0011</td>\n",
              "      <td>0.010999</td>\n",
              "      <td>0.010993</td>\n",
              "    </tr>\n",
              "  </tbody>\n",
              "</table>\n",
              "</div>"
            ],
            "text/plain": [
              "   bulletA_t  bulletA_x  bulletA_y  bulletB_t  bulletB_x  bulletB_y\n",
              "0     0.0000   0.000000   0.000000     0.0000   0.000000   0.000000\n",
              "1     0.0000   0.000000   0.000000     0.0000   0.000000   0.000000\n",
              "2     0.0001   0.001000   0.001000     0.0000   0.000000   0.000000\n",
              "3     0.0001   0.001000   0.001000     0.0001   0.001000   0.001000\n",
              "4     0.0011   0.010999   0.010993     0.0001   0.001000   0.001000\n",
              "5     0.0011   0.010999   0.010993     0.0011   0.010999   0.010993"
            ]
          },
          "metadata": {
            "tags": []
          }
        }
      ]
    },
    {
      "cell_type": "markdown",
      "metadata": {
        "id": "wYB-5tdm0l3B"
      },
      "source": [
        "Protože se jedná o framework podporující událostní simulaci i simulaci založenou na ODE modelech, je zcela běžné, že se v tabulce objevují stejné časy. Současně je patřičné uvést, že v simulaci se \"pohybuje vždy jedním objektem\" a tedy časy objektů nemusí být synchronní."
      ]
    },
    {
      "cell_type": "markdown",
      "metadata": {
        "id": "_uImfinW0l3B"
      },
      "source": [
        "## Příklad B"
      ]
    },
    {
      "cell_type": "markdown",
      "metadata": {
        "id": "JKk5Em6T0l3B"
      },
      "source": [
        "V tomto příkladu je ukázáno, jak lze v simulaci pracovat s událostmi."
      ]
    },
    {
      "cell_type": "markdown",
      "metadata": {
        "id": "i0iLFYtY0l3C"
      },
      "source": [
        "### Importy z knihovny"
      ]
    },
    {
      "cell_type": "code",
      "metadata": {
        "id": "LfAR1r_s0l3C"
      },
      "source": [
        "import simodes\n",
        "from simodes import Simulator\n",
        "from simodes import simpleODESolver\n",
        "from simodes import createDataSelector\n",
        "#print(dir(simodes))"
      ],
      "execution_count": null,
      "outputs": []
    },
    {
      "cell_type": "markdown",
      "metadata": {
        "id": "s9wkzFMQ0l3C"
      },
      "source": [
        "### Inicializace simulace"
      ]
    },
    {
      "cell_type": "markdown",
      "metadata": {
        "id": "xGYUiSje0l3D"
      },
      "source": [
        "Simulační prostředí je závislé na třídě Simulator. Vytvořením její instance dostáváme k dispozici veškeré metody, které jsou nezbytné pro událostní (DES) simulaci a simulaci založené na diferenciálních rovnicích (ODE)."
      ]
    },
    {
      "cell_type": "code",
      "metadata": {
        "id": "eOnk10w20l3E",
        "outputId": "9ed97186-9633-458a-998f-f89fd64b5675"
      },
      "source": [
        "sim = Simulator()\n",
        "currentState = sim.GetState()\n",
        "print(currentState)"
      ],
      "execution_count": null,
      "outputs": [
        {
          "output_type": "stream",
          "text": [
            "{'odeModels': {}, 'eventList': {'events': [], 'activeEvent': None}, 'logs': []}\n"
          ],
          "name": "stdout"
        }
      ]
    },
    {
      "cell_type": "markdown",
      "metadata": {
        "id": "bYnq0TiG0l3E"
      },
      "source": [
        "### Definice událostí v simulaci"
      ]
    },
    {
      "cell_type": "markdown",
      "metadata": {
        "id": "aLMq9Wle0l3E"
      },
      "source": [
        "V případě, kdy je se jedná o simulaci založenou na událostech, je nutné tyto události definovat. Událost je funkcí, jejímž prvním parametrem je čas. "
      ]
    },
    {
      "cell_type": "code",
      "metadata": {
        "id": "QG5MKPJX0l3E"
      },
      "source": [
        "def eventComeIn(time):\n",
        "    print(f'At {time}s an event occurs')"
      ],
      "execution_count": null,
      "outputs": []
    },
    {
      "cell_type": "markdown",
      "metadata": {
        "id": "ELmT12090l3F"
      },
      "source": [
        "### Naplánování událost v simulaci"
      ]
    },
    {
      "cell_type": "markdown",
      "metadata": {
        "id": "G22bcJsD0l3F"
      },
      "source": [
        "Prvním parametrem je čas, kdy k události dojde a druhým parametrem, které funkce bude v daném čase simulace vyvolána."
      ]
    },
    {
      "cell_type": "code",
      "metadata": {
        "id": "0oYrXaSu0l3F",
        "outputId": "dc247c80-55e3-42de-9634-2de1d79d39e3"
      },
      "source": [
        "sim.AddEvent(0, eventComeIn)"
      ],
      "execution_count": null,
      "outputs": [
        {
          "output_type": "execute_result",
          "data": {
            "text/plain": [
              "<simodes.simulation.Simulator at 0x7f140dac65b0>"
            ]
          },
          "metadata": {
            "tags": []
          },
          "execution_count": 18
        }
      ]
    },
    {
      "cell_type": "markdown",
      "metadata": {
        "id": "bPMgjrGf0l3H"
      },
      "source": [
        "### Definice událostí v simulaci II"
      ]
    },
    {
      "cell_type": "markdown",
      "metadata": {
        "id": "NVRYBC4C0l3I"
      },
      "source": [
        "Častějším typem události, než jaká byla demonstrována výše je událost, na kterou navazuje další událost. Toto lze řešit naplánování další události v rámci obsluhy aktuální události. Událost může mít více parametrů.\n",
        "\n",
        "> V simulaci lze samozřejmě definovat více typů událostí s různou obsluhou\n",
        "\n",
        "V příkladu je popsán systém hromadné obsluhy s frontou FIFO a jednou obslužnou linkou."
      ]
    },
    {
      "cell_type": "code",
      "metadata": {
        "id": "modFkQzO0l3I"
      },
      "source": [
        "import random\n",
        "\n",
        "queue = []\n",
        "def eventComeInEx(time, addEvent):\n",
        "    print(f'At {time}s someone comes in')\n",
        "    queue.append(time)\n",
        "    nextTime = time + random.uniform(1.5, 3)\n",
        "    addEvent(nextTime, eventComeInEx, addEvent=addEvent)\n",
        "    addEvent(time, tryBeginService, addEvent=addEvent)\n",
        "    \n",
        "service = {'who': None}\n",
        "def tryBeginService(time, addEvent):\n",
        "    if len(queue) > 0: # queue is not empty\n",
        "        if service['who'] is None: # service is ready\n",
        "            timeIn = queue.pop()\n",
        "            timeOut = timeIn + random.uniform(0.5, 2.5)\n",
        "            service['who'] = {'systemIn': timeIn, 'serviceBegin': time, 'systemOut': timeOut}\n",
        "            addEvent(timeOut, eventServiceEnd, addEvent=addEvent)\n",
        "            \n",
        "def eventServiceEnd(time, addEvent):\n",
        "    item = service['who']\n",
        "    print(f'At {time}s {item} leaves the system')\n",
        "    service['who'] = None\n",
        "    addEvent(time, tryBeginService, addEvent=addEvent)\n",
        "    "
      ],
      "execution_count": null,
      "outputs": []
    },
    {
      "cell_type": "markdown",
      "metadata": {
        "id": "tH3_Qk4x0l3J"
      },
      "source": [
        "### Naplánování události v simulaci"
      ]
    },
    {
      "cell_type": "markdown",
      "metadata": {
        "id": "unyjWna40l3J"
      },
      "source": [
        "V tomto případě událost je naplánována s extra parametrem ```addEvent```. Tento parametr je předán funkci, která událost obslouží (```eventComeInEx```)."
      ]
    },
    {
      "cell_type": "code",
      "metadata": {
        "id": "Tn28noxj0l3J",
        "outputId": "68a604ff-e9b1-4074-f27d-88972f19f456"
      },
      "source": [
        "sim.AddEvent(0, eventComeInEx, addEvent=sim.AddEvent)"
      ],
      "execution_count": null,
      "outputs": [
        {
          "output_type": "execute_result",
          "data": {
            "text/plain": [
              "<simodes.simulation.Simulator at 0x7f140dac65b0>"
            ]
          },
          "metadata": {
            "tags": []
          },
          "execution_count": 20
        }
      ]
    },
    {
      "cell_type": "markdown",
      "metadata": {
        "id": "jxHAfxnN0l3K"
      },
      "source": [
        "### Cyklus simulace"
      ]
    },
    {
      "cell_type": "markdown",
      "metadata": {
        "id": "tUP52HCo0l3K"
      },
      "source": [
        "> Pozor, níže použitý cyklus simulace může být nekonečný, je tedy potřeba definovat podmínku ukončení. V tomto konkrétním případě je simulace ukončena nejpozději po 6 krocích. "
      ]
    },
    {
      "cell_type": "code",
      "metadata": {
        "id": "4yAoICfS0l3L",
        "outputId": "f73183bd-ca36-4e8f-98b0-3a7046da231c"
      },
      "source": [
        "results = []\n",
        "for index, currentResult in enumerate(sim.Run()):\n",
        "    if index >= 5:\n",
        "        break"
      ],
      "execution_count": null,
      "outputs": [
        {
          "output_type": "stream",
          "text": [
            "At 0s an event occurs\n",
            "At 0s someone comes in\n",
            "At 1.5822921669943888s {'systemIn': 0, 'serviceBegin': 0, 'systemOut': 1.5822921669943888} leaves the system\n",
            "At 2.2386463046990777s someone comes in\n"
          ],
          "name": "stdout"
        }
      ]
    },
    {
      "cell_type": "markdown",
      "metadata": {
        "id": "IL9UzyjS0l3L"
      },
      "source": [
        "## Příklad C"
      ]
    },
    {
      "cell_type": "markdown",
      "metadata": {
        "id": "sOBgEPkz0l3M"
      },
      "source": [
        "V tomto příkladu je ukázáno jak v simulaci průběžně ukládat informace."
      ]
    },
    {
      "cell_type": "markdown",
      "metadata": {
        "id": "Jl_r2txd0l3M"
      },
      "source": [
        "### Importy z knihovny"
      ]
    },
    {
      "cell_type": "code",
      "metadata": {
        "id": "d38cba-v0l3M"
      },
      "source": [
        "import simodes\n",
        "from simodes import Simulator\n",
        "from simodes import simpleODESolver\n",
        "from simodes import createDataSelector\n",
        "#print(dir(simodes))"
      ],
      "execution_count": null,
      "outputs": []
    },
    {
      "cell_type": "markdown",
      "metadata": {
        "id": "wQZ-kf6F0l3N"
      },
      "source": [
        "### Inicializace simulace"
      ]
    },
    {
      "cell_type": "markdown",
      "metadata": {
        "id": "zqHm932P0l3O"
      },
      "source": [
        "Simulační prostředí je závislé na třídě Simulator. Vytvořením její instance dostáváme k dispozici veškeré metody, které jsou nezbytné pro událostní (DES) simulaci a simulaci založené na diferenciálních rovnicích (ODE)."
      ]
    },
    {
      "cell_type": "code",
      "metadata": {
        "id": "5z7rHFXm0l3O",
        "outputId": "414061d7-7468-4351-c952-2114eddaffbb"
      },
      "source": [
        "sim = Simulator()\n",
        "currentState = sim.GetState()\n",
        "print(currentState)"
      ],
      "execution_count": null,
      "outputs": [
        {
          "output_type": "stream",
          "text": [
            "{'odeModels': {}, 'eventList': {'events': [], 'activeEvent': None}, 'logs': []}\n"
          ],
          "name": "stdout"
        }
      ]
    },
    {
      "cell_type": "markdown",
      "metadata": {
        "id": "YKwdFBEr0l3P"
      },
      "source": [
        "### Definice událostí v simulaci"
      ]
    },
    {
      "cell_type": "markdown",
      "metadata": {
        "id": "oEsPKdxZ0l3P"
      },
      "source": [
        "Při obsluze události jsou ukládány informace do logu simulace.\n",
        "> V simulaci lze ukládat různé typy logů. Ty jsou odlišeny ukládanými parametry."
      ]
    },
    {
      "cell_type": "code",
      "metadata": {
        "id": "1BoZEXZx0l3Q"
      },
      "source": [
        "import random\n",
        "\n",
        "queue = []\n",
        "def eventComeInEx(time, addEvent, addLog):\n",
        "    addLog(f'At {time}s someone comes in', time=time)\n",
        "    queue.append(time)\n",
        "    nextTime = time + random.uniform(1.5, 3)\n",
        "    addEvent(nextTime, eventComeInEx, addEvent=addEvent, addLog=addLog)\n",
        "    addEvent(time, tryBeginService, addEvent=addEvent, addLog=addLog)\n",
        "    \n",
        "service = {'who': None}\n",
        "def tryBeginService(time, addEvent, addLog):\n",
        "    if len(queue) > 0: # queue is not empty\n",
        "        if service['who'] is None: # service is ready\n",
        "            timeIn = queue.pop()\n",
        "            timeOut = timeIn + random.uniform(0.5, 2.5)\n",
        "            service['who'] = {'systemIn': timeIn, 'serviceBegin': time, 'systemOut': timeOut}\n",
        "            addEvent(timeOut, eventServiceEnd, addEvent=addEvent, addLog=addLog)\n",
        "            \n",
        "            \n",
        "def eventServiceEnd(time, addEvent, addLog):\n",
        "    item = service['who']\n",
        "    \n",
        "    addLog(f'At {time}s item leaves the system', time=time, item=item)\n",
        "    service['who'] = None\n",
        "    addEvent(time, tryBeginService, addEvent=addEvent, addLog=addLog)\n",
        "    "
      ],
      "execution_count": null,
      "outputs": []
    },
    {
      "cell_type": "markdown",
      "metadata": {
        "id": "93HPe63m0l3R"
      },
      "source": [
        "### Naplánování události v simulaci"
      ]
    },
    {
      "cell_type": "markdown",
      "metadata": {
        "id": "pH8rL1-o0l3R"
      },
      "source": [
        "V tomto případě událost je naplánována s extra parametrem ```addEvent```. Tento parametr je předán funkci, která událost obslouží (```eventComeInEx```)."
      ]
    },
    {
      "cell_type": "code",
      "metadata": {
        "id": "oA1gQCpA0l3R",
        "outputId": "b6fbbe8d-bdc0-40ca-d5ac-487df50234cd"
      },
      "source": [
        "sim.AddEvent(0, eventComeInEx, addEvent=sim.AddEvent, addLog=sim.AddLog)"
      ],
      "execution_count": null,
      "outputs": [
        {
          "output_type": "execute_result",
          "data": {
            "text/plain": [
              "<simodes.simulation.Simulator at 0x7f140dae5820>"
            ]
          },
          "metadata": {
            "tags": []
          },
          "execution_count": 25
        }
      ]
    },
    {
      "cell_type": "markdown",
      "metadata": {
        "id": "bcG-AB5T0l3S"
      },
      "source": [
        "### Cyklus simulace"
      ]
    },
    {
      "cell_type": "markdown",
      "metadata": {
        "id": "lfqwxdb-0l3S"
      },
      "source": [
        "> Pozor, níže použitý cyklus simulace může být nekonečný, je tedy potřeba definovat podmínku ukončení. V tomto konkrétním případě je simulace ukončena nejpozději po 6 krocích. "
      ]
    },
    {
      "cell_type": "code",
      "metadata": {
        "id": "4klrsHJk0l3S"
      },
      "source": [
        "results = []\n",
        "for index, currentResult in enumerate(sim.Run()):\n",
        "    if index >= 5:\n",
        "        break"
      ],
      "execution_count": null,
      "outputs": []
    },
    {
      "cell_type": "markdown",
      "metadata": {
        "id": "teW_3kW50l3T"
      },
      "source": [
        "### Výpis událostí"
      ]
    },
    {
      "cell_type": "markdown",
      "metadata": {
        "id": "6nFepQkS0l3U"
      },
      "source": [
        "Během simulace i po jejím ukončení lze provést výpis zaznamenaných událostí"
      ]
    },
    {
      "cell_type": "code",
      "metadata": {
        "id": "LC4sj6bQ0l3U",
        "outputId": "ce947356-9b65-48c8-a80c-39af1b479612"
      },
      "source": [
        "state = sim.GetState()\n",
        "logs = state['logs']\n",
        "for item in logs:\n",
        "    print(item)"
      ],
      "execution_count": null,
      "outputs": [
        {
          "output_type": "stream",
          "text": [
            "{'msg': 'At 0s someone comes in', 'time': 0}\n",
            "{'msg': 'At 1.809040473507442s item leaves the system', 'time': 1.809040473507442, 'item': {'systemIn': 0, 'serviceBegin': 0, 'systemOut': 1.809040473507442}}\n",
            "{'msg': 'At 2.6763418177499236s someone comes in', 'time': 2.6763418177499236}\n"
          ],
          "name": "stdout"
        }
      ]
    },
    {
      "cell_type": "code",
      "metadata": {
        "id": "rV-FiFW90l3V"
      },
      "source": [
        ""
      ],
      "execution_count": null,
      "outputs": []
    },
    {
      "cell_type": "markdown",
      "metadata": {
        "id": "4Fc42QDV0l3W"
      },
      "source": [
        "## Imports and Special Functions"
      ]
    },
    {
      "cell_type": "markdown",
      "metadata": {
        "id": "o6mt8m6v0l3W"
      },
      "source": [
        "### createDataSelector Function"
      ]
    },
    {
      "cell_type": "markdown",
      "metadata": {
        "id": "P5KtPu-00l3W"
      },
      "source": [
        "Funkce ```createDataSelector``` slouží pro přípravu jednoduché transformace dat v průběhu simulace. Umožňuje z celkové informace o simulaci extrahovat jen dílčí prvky. Její použití je uvedeno v další části.\n",
        "\n",
        "> Implementaci není nutno studovat. Funkci je možné importovat přímo z knihovny."
      ]
    },
    {
      "cell_type": "code",
      "metadata": {
        "id": "3UaYxEtt0l3W"
      },
      "source": [
        "def createDataSelector(masterMaps, maps):\n",
        "    def extractor(dataItem):\n",
        "        result = {}\n",
        "        for masterName, masterFunc in masterMaps.items():\n",
        "            row = masterFunc(dataItem)\n",
        "            for name, func in maps.items():\n",
        "                result[masterName + name] = func(row)\n",
        "        return result\n",
        "    return extractor"
      ],
      "execution_count": null,
      "outputs": []
    },
    {
      "cell_type": "markdown",
      "metadata": {
        "id": "HLKNhlNR0l3X"
      },
      "source": [
        "### simpleODESolver Function"
      ]
    },
    {
      "cell_type": "markdown",
      "metadata": {
        "id": "JmTQ0jzP0l3X"
      },
      "source": [
        "Funkce ```simpleODESolver``` je funkcí, která na základě modelu, jeho počátečního stavu generuje v daném časové intervalu stavy modelu. Funkce je koncipována jako generátor a vrací jednotlivé stavy na vyžádání. Tato konkrétní implementace je založena na metodě RungeKutta. V případě potřeby lze implementaci změnit / zpřesnit. To ovšem obvykle, vzhledem ke způsobu práce simulačního prostředí s více modely, není třeba.\n",
        "\n",
        "> Implementaci není třeba studovat. Funkci je možné importovat přímo z knihovny."
      ]
    },
    {
      "cell_type": "code",
      "metadata": {
        "id": "INKojYk30l3X"
      },
      "source": [
        "import scipy.integrate as integrate # for numerical solution od differential equations\n",
        "\n",
        "def simpleODESolver(model, t0, state0, t_bound, max_step):\n",
        "    if not callable(model):\n",
        "        raise ValueError('Model must be callable')\n",
        "\n",
        "    solver = integrate.RK45(fun = model, t0 = t0, y0 = state0, t_bound = t_bound, max_step = max_step)\n",
        "    currentItem = {'time': solver.t, 'y': [*state0], 'yd': [*model(t0, state0)]}\n",
        "    while True:\n",
        "        yield currentItem # send signal, inform about current result\n",
        "        message = solver.step()\n",
        "        currentItem = {'time': solver.t, 'y': [*solver.y], 'yd': [*model(solver.t, solver.y)]}\n",
        "        if (not(solver.status == 'running')):\n",
        "            break"
      ],
      "execution_count": null,
      "outputs": []
    }
  ]
}