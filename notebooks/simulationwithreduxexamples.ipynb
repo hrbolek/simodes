{
 "cells": [
  {
   "cell_type": "markdown",
   "metadata": {},
   "source": [
    "# Examples of Simodes use"
   ]
  },
  {
   "cell_type": "markdown",
   "metadata": {},
   "source": [
    "V textu dále jsou pomocí tří příkladů demonstrovány základní funkcionality knihovny simodes, která poskytuje nástroje pro propojení simulací založených na modelech definovaných diferenciálními rovnicemi a simulací založených na událostních modelech.\n",
    "\n",
    "V poslední kapitole jsou uvedeny některé implementační detaily u vybraných funkcí."
   ]
  },
  {
   "cell_type": "code",
   "execution_count": 1,
   "metadata": {},
   "outputs": [
    {
     "name": "stdout",
     "output_type": "stream",
     "text": [
      "Requirement already satisfied: simodes in /opt/conda/lib/python3.8/site-packages (0.6)\n",
      "Requirement already satisfied: scipy in /opt/conda/lib/python3.8/site-packages (from simodes) (1.5.2)\n",
      "Requirement already satisfied: numpy>=1.14.5 in /opt/conda/lib/python3.8/site-packages (from scipy->simodes) (1.19.1)\n"
     ]
    }
   ],
   "source": [
    "!pip install simodes"
   ]
  },
  {
   "cell_type": "markdown",
   "metadata": {},
   "source": [
    "## Příklad A"
   ]
  },
  {
   "cell_type": "markdown",
   "metadata": {},
   "source": [
    "V tomto příkladě je ukázáno, jakým způsobem lze v simulaci pracovat s modelem definovaným pomocí diferenciální rovnice."
   ]
  },
  {
   "cell_type": "markdown",
   "metadata": {},
   "source": [
    "### Importy z knihovny"
   ]
  },
  {
   "cell_type": "code",
   "execution_count": 2,
   "metadata": {},
   "outputs": [],
   "source": [
    "import simodes\n",
    "from simodes import Simulator\n",
    "from simodes import simpleODESolver\n",
    "from simodes import createDataSelector\n",
    "#print(dir(simodes))"
   ]
  },
  {
   "cell_type": "markdown",
   "metadata": {},
   "source": [
    "### Inicializace simulace"
   ]
  },
  {
   "cell_type": "markdown",
   "metadata": {},
   "source": [
    "Simulační prostředí je závislé na třídě Simulator. Vytvořením její instance dostáváme k dispozici veškeré metody, které jsou nezbytné pro událostní (DES) simulaci a simulaci založené na diferenciálních rovnicích (ODE)."
   ]
  },
  {
   "cell_type": "code",
   "execution_count": 3,
   "metadata": {},
   "outputs": [
    {
     "name": "stdout",
     "output_type": "stream",
     "text": [
      "{'odeModels': {}, 'eventList': {'events': [], 'activeEvent': None}, 'logs': []}\n"
     ]
    }
   ],
   "source": [
    "sim = Simulator()\n",
    "currentState = sim.GetState()\n",
    "print(currentState)"
   ]
  },
  {
   "cell_type": "markdown",
   "metadata": {},
   "source": [
    "### Definice modelu"
   ]
  },
  {
   "cell_type": "markdown",
   "metadata": {},
   "source": [
    "V případě, kdy je se jedná o simulaci založenou na modelech popsaných diferenciálními rovnicemi, je nutné tyto modely definovat. Model je vyjádřen funkcí se dvěma parametry, přičemž první parametr určuje čas a druhý stav modelu. Funkce navrací hodnotu, která je derivací stavu v daném čase. Níže uvedený model popisuje pohyb hmotného bodu ve 2D prostoru, přičemž v ose y působí gravitace se zrychlením g=9.81."
   ]
  },
  {
   "cell_type": "code",
   "execution_count": 4,
   "metadata": {},
   "outputs": [],
   "source": [
    "def model2D(time, state):\n",
    "    return [state[2], state[3], 0, -9.81]"
   ]
  },
  {
   "cell_type": "markdown",
   "metadata": {},
   "source": [
    "### Zanesení modelu do simulace"
   ]
  },
  {
   "cell_type": "markdown",
   "metadata": {},
   "source": [
    "Při vkládání modelu do simulace je nutné definovat:\n",
    "\n",
    "- diferenciální rovnici (model2D), \n",
    "\n",
    "- čas, kdy je simulace pohybu zahájena (0s),\n",
    "\n",
    "- počáteční stav ([0, 0, 10, 10]),\n",
    "\n",
    "- mezní čas, tedy čas, kdy výpočty končí (1e300) a\n",
    "\n",
    "- maximální krok (0.0625)\n",
    "\n",
    "V simulaci lze současně zpracovávat více ODE modelů, v tomto případě jsou to dva se stejnou diferenciální rovnicí.\n",
    "Simulátor každému vloženému modelu přiřadí unikátní identifikátor. Prostřednictvím tohoto identifikátoru lze získávat informace o stavu modelu."
   ]
  },
  {
   "cell_type": "code",
   "execution_count": 5,
   "metadata": {},
   "outputs": [],
   "source": [
    "solverA = simpleODESolver(\n",
    "    model2D, 0, state0=[0, 0, 10, 10], t_bound=1e300, max_step=0.0625)\n",
    "modelIdA = sim.AttachODESolver(solverA)\n",
    "\n",
    "solverB = simpleODESolver(\n",
    "    model2D, 0, state0=[0, 0, 10, 10], t_bound=1e300, max_step=0.0625)\n",
    "modelIdB = sim.AttachODESolver(solverB)"
   ]
  },
  {
   "cell_type": "markdown",
   "metadata": {},
   "source": [
    "Po vložení modelu lze zjistit stav. Data o simulaci lze získat voláním funkce ```sim.GetState()```.\n",
    "\n",
    "Pokud u modelu je atribut ```destroyed``` nastaven na hodnotu ```true```, simulace modelu je ukončena (model se již dále nebude pohybovat)."
   ]
  },
  {
   "cell_type": "code",
   "execution_count": 6,
   "metadata": {},
   "outputs": [
    {
     "name": "stdout",
     "output_type": "stream",
     "text": [
      "{'odeModels': {'kkvpwgotvt': {'destroyed': False, 'state': {'time': 0, 'y': [0, 0, 10, 10], 'yd': [10, 10, 0, -9.81]}}, 'ojkozcquko': {'destroyed': False, 'state': {'time': 0, 'y': [0, 0, 10, 10], 'yd': [10, 10, 0, -9.81]}}}, 'eventList': {'events': [{'time': 0, 'executor': <function Simulator.AttachODESolver.<locals>.stepper at 0x7f140f6b2a60>, 'kwargs': {'state': {'time': 0, 'y': [0, 0, 10, 10], 'yd': [10, 10, 0, -9.81]}}}, {'time': 0, 'executor': <function Simulator.AttachODESolver.<locals>.stepper at 0x7f140f6b2ca0>, 'kwargs': {'state': {'time': 0, 'y': [0, 0, 10, 10], 'yd': [10, 10, 0, -9.81]}}}], 'activeEvent': None}, 'logs': []}\n"
     ]
    }
   ],
   "source": [
    "currentState = sim.GetState()\n",
    "print(currentState)"
   ]
  },
  {
   "cell_type": "markdown",
   "metadata": {},
   "source": [
    "### Příprava metod pro transformaci dat"
   ]
  },
  {
   "cell_type": "markdown",
   "metadata": {},
   "source": [
    "Identifikátory získané při zavedení modelu do simulace slouží pro extraci dat ze simulace. Jako podpůrný prvek lze využít funkci createDataSelector."
   ]
  },
  {
   "cell_type": "markdown",
   "metadata": {},
   "source": [
    "Proměnná ```masterMap``` definovaná níže definuje, které modely jsou v simulaci sledovány. Názvy ```bulletA_``` a ```bulletB_``` se použijí později."
   ]
  },
  {
   "cell_type": "code",
   "execution_count": 7,
   "metadata": {},
   "outputs": [],
   "source": [
    "masterMap = {\n",
    "    'bulletA_': lambda item: item[modelIdA],\n",
    "    'bulletB_': lambda item: item[modelIdB],\n",
    "}"
   ]
  },
  {
   "cell_type": "markdown",
   "metadata": {},
   "source": [
    "Proměnná ```dataDescriptor``` slouží pro extrakci vybraných parametrů entit. V tomto případě se jedná o čas a první dva prvky stavu modelu, které v našem případě představují souřadnice x a y."
   ]
  },
  {
   "cell_type": "code",
   "execution_count": 8,
   "metadata": {},
   "outputs": [],
   "source": [
    "dataDescriptor = {\n",
    "    't': lambda item: item['state']['time'],\n",
    "    'x': lambda item: item['state']['y'][0],\n",
    "    'y': lambda item: item['state']['y'][1]\n",
    "}"
   ]
  },
  {
   "cell_type": "markdown",
   "metadata": {},
   "source": [
    "Na základě definovaných proměnných ```masterMap``` a ```dataDescriptor``` je vytvořena funkce  ```dataSelector```, u které je předpoklad, že bude využita v průběhu simulace."
   ]
  },
  {
   "cell_type": "code",
   "execution_count": 9,
   "metadata": {},
   "outputs": [],
   "source": [
    "dataSelector = createDataSelector(masterMap, dataDescriptor)"
   ]
  },
  {
   "cell_type": "markdown",
   "metadata": {},
   "source": [
    "Demonstrace využití ```dataSelector```, kdy z celých dat je vybrána je požadovaná část."
   ]
  },
  {
   "cell_type": "code",
   "execution_count": 10,
   "metadata": {},
   "outputs": [
    {
     "name": "stdout",
     "output_type": "stream",
     "text": [
      "{'bulletA_t': 0, 'bulletA_x': 0, 'bulletA_y': 0, 'bulletB_t': 0, 'bulletB_x': 0, 'bulletB_y': 0}\n"
     ]
    }
   ],
   "source": [
    "simData = sim.GetState()\n",
    "selectedData = dataSelector(simData['odeModels'])\n",
    "print(selectedData)"
   ]
  },
  {
   "cell_type": "markdown",
   "metadata": {},
   "source": [
    "### Cyklus simulace"
   ]
  },
  {
   "cell_type": "markdown",
   "metadata": {},
   "source": [
    "Před spuštěním cyklu simulace je inicializována proměnná ```results```, do které budou postupně vkládány výsledky simulace. \n",
    "\n",
    "> Pozor, níže použitý cyklus simulace může být nekonečný, je tedy potřeba definovat podmínku ukončení. V tomto konkrétním případě je simulace ukončena po 6 krocích. \n",
    "\n",
    "V každém kroku je z celkových dat simulace vybrána zájmová podmnožina pomocí funkce ```dataSelector``` a její výstup je vložen do pole results.\n",
    "Cyklus simulace, jak je definován níže, obsahuje v proměnné ```index``` číslo kroku a ```currentResult``` informace o stavu všech modelů v simulaci."
   ]
  },
  {
   "cell_type": "code",
   "execution_count": 11,
   "metadata": {},
   "outputs": [],
   "source": [
    "results = []\n",
    "for index, currentResult in enumerate(sim.Run()):\n",
    "    partialResult = dataSelector(currentResult)\n",
    "    results.append(partialResult)\n",
    "    if index >= 5:\n",
    "        break"
   ]
  },
  {
   "cell_type": "markdown",
   "metadata": {},
   "source": [
    "Po ukončení cyklu simulace je možné vypsat souhrnné výsledky."
   ]
  },
  {
   "cell_type": "code",
   "execution_count": 12,
   "metadata": {},
   "outputs": [
    {
     "name": "stdout",
     "output_type": "stream",
     "text": [
      "[{'bulletA_t': 0, 'bulletA_x': 0, 'bulletA_y': 0, 'bulletB_t': 0, 'bulletB_x': 0, 'bulletB_y': 0}, {'bulletA_t': 0, 'bulletA_x': 0, 'bulletA_y': 0, 'bulletB_t': 0, 'bulletB_x': 0, 'bulletB_y': 0}, {'bulletA_t': 9.999000075938193e-05, 'bulletA_x': 0.0009999000075938194, 'bulletA_y': 0.0009998509674025836, 'bulletB_t': 0, 'bulletB_x': 0, 'bulletB_y': 0}, {'bulletA_t': 9.999000075938193e-05, 'bulletA_x': 0.0009999000075938194, 'bulletA_y': 0.0009998509674025836, 'bulletB_t': 9.999000075938193e-05, 'bulletB_x': 0.0009999000075938194, 'bulletB_y': 0.0009998509674025836}, {'bulletA_t': 0.0010998900083532014, 'bulletA_x': 0.010998900083532014, 'bulletA_y': 0.01099296622039253, 'bulletB_t': 9.999000075938193e-05, 'bulletB_x': 0.0009999000075938194, 'bulletB_y': 0.0009998509674025836}, {'bulletA_t': 0.0010998900083532014, 'bulletA_x': 0.010998900083532014, 'bulletA_y': 0.01099296622039253, 'bulletB_t': 0.0010998900083532014, 'bulletB_x': 0.010998900083532014, 'bulletB_y': 0.01099296622039253}]\n"
     ]
    }
   ],
   "source": [
    "print(results)"
   ]
  },
  {
   "cell_type": "markdown",
   "metadata": {},
   "source": [
    "Výsledky lze zpracovat dalšími standardními postupy, například zobrazit jako tabulku."
   ]
  },
  {
   "cell_type": "code",
   "execution_count": 13,
   "metadata": {},
   "outputs": [],
   "source": [
    "import pandas as pd\n",
    "\n",
    "def displayData(data):\n",
    "    df = pd.DataFrame(data)\n",
    "    display(df)"
   ]
  },
  {
   "cell_type": "code",
   "execution_count": 14,
   "metadata": {},
   "outputs": [
    {
     "data": {
      "text/html": [
       "<div>\n",
       "<style scoped>\n",
       "    .dataframe tbody tr th:only-of-type {\n",
       "        vertical-align: middle;\n",
       "    }\n",
       "\n",
       "    .dataframe tbody tr th {\n",
       "        vertical-align: top;\n",
       "    }\n",
       "\n",
       "    .dataframe thead th {\n",
       "        text-align: right;\n",
       "    }\n",
       "</style>\n",
       "<table border=\"1\" class=\"dataframe\">\n",
       "  <thead>\n",
       "    <tr style=\"text-align: right;\">\n",
       "      <th></th>\n",
       "      <th>bulletA_t</th>\n",
       "      <th>bulletA_x</th>\n",
       "      <th>bulletA_y</th>\n",
       "      <th>bulletB_t</th>\n",
       "      <th>bulletB_x</th>\n",
       "      <th>bulletB_y</th>\n",
       "    </tr>\n",
       "  </thead>\n",
       "  <tbody>\n",
       "    <tr>\n",
       "      <th>0</th>\n",
       "      <td>0.0000</td>\n",
       "      <td>0.000000</td>\n",
       "      <td>0.000000</td>\n",
       "      <td>0.0000</td>\n",
       "      <td>0.000000</td>\n",
       "      <td>0.000000</td>\n",
       "    </tr>\n",
       "    <tr>\n",
       "      <th>1</th>\n",
       "      <td>0.0000</td>\n",
       "      <td>0.000000</td>\n",
       "      <td>0.000000</td>\n",
       "      <td>0.0000</td>\n",
       "      <td>0.000000</td>\n",
       "      <td>0.000000</td>\n",
       "    </tr>\n",
       "    <tr>\n",
       "      <th>2</th>\n",
       "      <td>0.0001</td>\n",
       "      <td>0.001000</td>\n",
       "      <td>0.001000</td>\n",
       "      <td>0.0000</td>\n",
       "      <td>0.000000</td>\n",
       "      <td>0.000000</td>\n",
       "    </tr>\n",
       "    <tr>\n",
       "      <th>3</th>\n",
       "      <td>0.0001</td>\n",
       "      <td>0.001000</td>\n",
       "      <td>0.001000</td>\n",
       "      <td>0.0001</td>\n",
       "      <td>0.001000</td>\n",
       "      <td>0.001000</td>\n",
       "    </tr>\n",
       "    <tr>\n",
       "      <th>4</th>\n",
       "      <td>0.0011</td>\n",
       "      <td>0.010999</td>\n",
       "      <td>0.010993</td>\n",
       "      <td>0.0001</td>\n",
       "      <td>0.001000</td>\n",
       "      <td>0.001000</td>\n",
       "    </tr>\n",
       "    <tr>\n",
       "      <th>5</th>\n",
       "      <td>0.0011</td>\n",
       "      <td>0.010999</td>\n",
       "      <td>0.010993</td>\n",
       "      <td>0.0011</td>\n",
       "      <td>0.010999</td>\n",
       "      <td>0.010993</td>\n",
       "    </tr>\n",
       "  </tbody>\n",
       "</table>\n",
       "</div>"
      ],
      "text/plain": [
       "   bulletA_t  bulletA_x  bulletA_y  bulletB_t  bulletB_x  bulletB_y\n",
       "0     0.0000   0.000000   0.000000     0.0000   0.000000   0.000000\n",
       "1     0.0000   0.000000   0.000000     0.0000   0.000000   0.000000\n",
       "2     0.0001   0.001000   0.001000     0.0000   0.000000   0.000000\n",
       "3     0.0001   0.001000   0.001000     0.0001   0.001000   0.001000\n",
       "4     0.0011   0.010999   0.010993     0.0001   0.001000   0.001000\n",
       "5     0.0011   0.010999   0.010993     0.0011   0.010999   0.010993"
      ]
     },
     "metadata": {},
     "output_type": "display_data"
    }
   ],
   "source": [
    "displayData(results)"
   ]
  },
  {
   "cell_type": "markdown",
   "metadata": {},
   "source": [
    "Protože se jedná o framework podporující událostní simulaci i simulaci založenou na ODE modelech, je zcela běžné, že se v tabulce objevují stejné časy. Současně je patřičné uvést, že v simulaci se \"pohybuje vždy jedním objektem\" a tedy časy objektů nemusí být synchronní."
   ]
  },
  {
   "cell_type": "markdown",
   "metadata": {},
   "source": [
    "## Příklad B"
   ]
  },
  {
   "cell_type": "markdown",
   "metadata": {},
   "source": [
    "V tomto příkladu je ukázáno, jak lze v simulaci pracovat s událostmi."
   ]
  },
  {
   "cell_type": "markdown",
   "metadata": {},
   "source": [
    "### Importy z knihovny"
   ]
  },
  {
   "cell_type": "code",
   "execution_count": 15,
   "metadata": {},
   "outputs": [],
   "source": [
    "import simodes\n",
    "from simodes import Simulator\n",
    "from simodes import simpleODESolver\n",
    "from simodes import createDataSelector\n",
    "#print(dir(simodes))"
   ]
  },
  {
   "cell_type": "markdown",
   "metadata": {},
   "source": [
    "### Inicializace simulace"
   ]
  },
  {
   "cell_type": "markdown",
   "metadata": {},
   "source": [
    "Simulační prostředí je závislé na třídě Simulator. Vytvořením její instance dostáváme k dispozici veškeré metody, které jsou nezbytné pro událostní (DES) simulaci a simulaci založené na diferenciálních rovnicích (ODE)."
   ]
  },
  {
   "cell_type": "code",
   "execution_count": 16,
   "metadata": {},
   "outputs": [
    {
     "name": "stdout",
     "output_type": "stream",
     "text": [
      "{'odeModels': {}, 'eventList': {'events': [], 'activeEvent': None}, 'logs': []}\n"
     ]
    }
   ],
   "source": [
    "sim = Simulator()\n",
    "currentState = sim.GetState()\n",
    "print(currentState)"
   ]
  },
  {
   "cell_type": "markdown",
   "metadata": {},
   "source": [
    "### Definice událostí v simulaci"
   ]
  },
  {
   "cell_type": "markdown",
   "metadata": {},
   "source": [
    "V případě, kdy je se jedná o simulaci založenou na událostech, je nutné tyto události definovat. Událost je funkcí, jejímž prvním parametrem je čas. "
   ]
  },
  {
   "cell_type": "code",
   "execution_count": 17,
   "metadata": {},
   "outputs": [],
   "source": [
    "def eventComeIn(time):\n",
    "    print(f'At {time}s an event occurs')"
   ]
  },
  {
   "cell_type": "markdown",
   "metadata": {},
   "source": [
    "### Naplánování událost v simulaci"
   ]
  },
  {
   "cell_type": "markdown",
   "metadata": {},
   "source": [
    "Prvním parametrem je čas, kdy k události dojde a druhým parametrem, které funkce bude v daném čase simulace vyvolána."
   ]
  },
  {
   "cell_type": "code",
   "execution_count": 18,
   "metadata": {},
   "outputs": [
    {
     "data": {
      "text/plain": [
       "<simodes.simulation.Simulator at 0x7f140dac65b0>"
      ]
     },
     "execution_count": 18,
     "metadata": {},
     "output_type": "execute_result"
    }
   ],
   "source": [
    "sim.AddEvent(0, eventComeIn)"
   ]
  },
  {
   "cell_type": "markdown",
   "metadata": {},
   "source": [
    "### Definice událostí v simulaci II"
   ]
  },
  {
   "cell_type": "markdown",
   "metadata": {},
   "source": [
    "Častějším typem události, než jaká byla demonstrována výše je událost, na kterou navazuje další událost. Toto lze řešit naplánování další události v rámci obsluhy aktuální události. Událost může mít více parametrů.\n",
    "\n",
    "> V simulaci lze samozřejmě definovat více typů událostí s různou obsluhou\n",
    "\n",
    "V příkladu je popsán systém hromadné obsluhy s frontou FIFO a jednou obslužnou linkou."
   ]
  },
  {
   "cell_type": "code",
   "execution_count": 19,
   "metadata": {},
   "outputs": [],
   "source": [
    "import random\n",
    "\n",
    "queue = []\n",
    "def eventComeInEx(time, addEvent):\n",
    "    print(f'At {time}s someone comes in')\n",
    "    queue.append(time)\n",
    "    nextTime = time + random.uniform(1.5, 3)\n",
    "    addEvent(nextTime, eventComeInEx, addEvent=addEvent)\n",
    "    addEvent(time, tryBeginService, addEvent=addEvent)\n",
    "    \n",
    "service = {'who': None}\n",
    "def tryBeginService(time, addEvent):\n",
    "    if len(queue) > 0: # queue is not empty\n",
    "        if service['who'] is None: # service is ready\n",
    "            timeIn = queue.pop()\n",
    "            timeOut = timeIn + random.uniform(0.5, 2.5)\n",
    "            service['who'] = {'systemIn': timeIn, 'serviceBegin': time, 'systemOut': timeOut}\n",
    "            addEvent(timeOut, eventServiceEnd, addEvent=addEvent)\n",
    "            \n",
    "def eventServiceEnd(time, addEvent):\n",
    "    item = service['who']\n",
    "    print(f'At {time}s {item} leaves the system')\n",
    "    service['who'] = None\n",
    "    addEvent(time, tryBeginService, addEvent=addEvent)\n",
    "    "
   ]
  },
  {
   "cell_type": "markdown",
   "metadata": {},
   "source": [
    "### Naplánování události v simulaci"
   ]
  },
  {
   "cell_type": "markdown",
   "metadata": {},
   "source": [
    "V tomto případě událost je naplánována s extra parametrem ```addEvent```. Tento parametr je předán funkci, která událost obslouží (```eventComeInEx```)."
   ]
  },
  {
   "cell_type": "code",
   "execution_count": 20,
   "metadata": {},
   "outputs": [
    {
     "data": {
      "text/plain": [
       "<simodes.simulation.Simulator at 0x7f140dac65b0>"
      ]
     },
     "execution_count": 20,
     "metadata": {},
     "output_type": "execute_result"
    }
   ],
   "source": [
    "sim.AddEvent(0, eventComeInEx, addEvent=sim.AddEvent)"
   ]
  },
  {
   "cell_type": "markdown",
   "metadata": {},
   "source": [
    "### Cyklus simulace"
   ]
  },
  {
   "cell_type": "markdown",
   "metadata": {},
   "source": [
    "> Pozor, níže použitý cyklus simulace může být nekonečný, je tedy potřeba definovat podmínku ukončení. V tomto konkrétním případě je simulace ukončena nejpozději po 6 krocích. "
   ]
  },
  {
   "cell_type": "code",
   "execution_count": 21,
   "metadata": {},
   "outputs": [
    {
     "name": "stdout",
     "output_type": "stream",
     "text": [
      "At 0s an event occurs\n",
      "At 0s someone comes in\n",
      "At 1.5822921669943888s {'systemIn': 0, 'serviceBegin': 0, 'systemOut': 1.5822921669943888} leaves the system\n",
      "At 2.2386463046990777s someone comes in\n"
     ]
    }
   ],
   "source": [
    "results = []\n",
    "for index, currentResult in enumerate(sim.Run()):\n",
    "    if index >= 5:\n",
    "        break"
   ]
  },
  {
   "cell_type": "markdown",
   "metadata": {},
   "source": [
    "## Příklad C"
   ]
  },
  {
   "cell_type": "markdown",
   "metadata": {},
   "source": [
    "V tomto příkladu je ukázáno jak v simulaci průběžně ukládat informace."
   ]
  },
  {
   "cell_type": "markdown",
   "metadata": {},
   "source": [
    "### Importy z knihovny"
   ]
  },
  {
   "cell_type": "code",
   "execution_count": 22,
   "metadata": {},
   "outputs": [],
   "source": [
    "import simodes\n",
    "from simodes import Simulator\n",
    "from simodes import simpleODESolver\n",
    "from simodes import createDataSelector\n",
    "#print(dir(simodes))"
   ]
  },
  {
   "cell_type": "markdown",
   "metadata": {},
   "source": [
    "### Inicializace simulace"
   ]
  },
  {
   "cell_type": "markdown",
   "metadata": {},
   "source": [
    "Simulační prostředí je závislé na třídě Simulator. Vytvořením její instance dostáváme k dispozici veškeré metody, které jsou nezbytné pro událostní (DES) simulaci a simulaci založené na diferenciálních rovnicích (ODE)."
   ]
  },
  {
   "cell_type": "code",
   "execution_count": 23,
   "metadata": {},
   "outputs": [
    {
     "name": "stdout",
     "output_type": "stream",
     "text": [
      "{'odeModels': {}, 'eventList': {'events': [], 'activeEvent': None}, 'logs': []}\n"
     ]
    }
   ],
   "source": [
    "sim = Simulator()\n",
    "currentState = sim.GetState()\n",
    "print(currentState)"
   ]
  },
  {
   "cell_type": "markdown",
   "metadata": {},
   "source": [
    "### Definice událostí v simulaci"
   ]
  },
  {
   "cell_type": "markdown",
   "metadata": {},
   "source": [
    "Při obsluze události jsou ukládány informace do logu simulace.\n",
    "> V simulaci lze ukládat různé typy logů. Ty jsou odlišeny ukládanými parametry."
   ]
  },
  {
   "cell_type": "code",
   "execution_count": 24,
   "metadata": {},
   "outputs": [],
   "source": [
    "import random\n",
    "\n",
    "queue = []\n",
    "def eventComeInEx(time, addEvent, addLog):\n",
    "    addLog(f'At {time}s someone comes in', time=time)\n",
    "    queue.append(time)\n",
    "    nextTime = time + random.uniform(1.5, 3)\n",
    "    addEvent(nextTime, eventComeInEx, addEvent=addEvent, addLog=addLog)\n",
    "    addEvent(time, tryBeginService, addEvent=addEvent, addLog=addLog)\n",
    "    \n",
    "service = {'who': None}\n",
    "def tryBeginService(time, addEvent, addLog):\n",
    "    if len(queue) > 0: # queue is not empty\n",
    "        if service['who'] is None: # service is ready\n",
    "            timeIn = queue.pop()\n",
    "            timeOut = timeIn + random.uniform(0.5, 2.5)\n",
    "            service['who'] = {'systemIn': timeIn, 'serviceBegin': time, 'systemOut': timeOut}\n",
    "            addEvent(timeOut, eventServiceEnd, addEvent=addEvent, addLog=addLog)\n",
    "            \n",
    "            \n",
    "def eventServiceEnd(time, addEvent, addLog):\n",
    "    item = service['who']\n",
    "    \n",
    "    addLog(f'At {time}s item leaves the system', time=time, item=item)\n",
    "    service['who'] = None\n",
    "    addEvent(time, tryBeginService, addEvent=addEvent, addLog=addLog)\n",
    "    "
   ]
  },
  {
   "cell_type": "markdown",
   "metadata": {},
   "source": [
    "### Naplánování události v simulaci"
   ]
  },
  {
   "cell_type": "markdown",
   "metadata": {},
   "source": [
    "V tomto případě událost je naplánována s extra parametrem ```addEvent```. Tento parametr je předán funkci, která událost obslouží (```eventComeInEx```)."
   ]
  },
  {
   "cell_type": "code",
   "execution_count": 25,
   "metadata": {},
   "outputs": [
    {
     "data": {
      "text/plain": [
       "<simodes.simulation.Simulator at 0x7f140dae5820>"
      ]
     },
     "execution_count": 25,
     "metadata": {},
     "output_type": "execute_result"
    }
   ],
   "source": [
    "sim.AddEvent(0, eventComeInEx, addEvent=sim.AddEvent, addLog=sim.AddLog)"
   ]
  },
  {
   "cell_type": "markdown",
   "metadata": {},
   "source": [
    "### Cyklus simulace"
   ]
  },
  {
   "cell_type": "markdown",
   "metadata": {},
   "source": [
    "> Pozor, níže použitý cyklus simulace může být nekonečný, je tedy potřeba definovat podmínku ukončení. V tomto konkrétním případě je simulace ukončena nejpozději po 6 krocích. "
   ]
  },
  {
   "cell_type": "code",
   "execution_count": 26,
   "metadata": {},
   "outputs": [],
   "source": [
    "results = []\n",
    "for index, currentResult in enumerate(sim.Run()):\n",
    "    if index >= 5:\n",
    "        break"
   ]
  },
  {
   "cell_type": "markdown",
   "metadata": {},
   "source": [
    "### Výpis událostí"
   ]
  },
  {
   "cell_type": "markdown",
   "metadata": {},
   "source": [
    "Během simulace i po jejím ukončení lze provést výpis zaznamenaných událostí"
   ]
  },
  {
   "cell_type": "code",
   "execution_count": 27,
   "metadata": {},
   "outputs": [
    {
     "name": "stdout",
     "output_type": "stream",
     "text": [
      "{'msg': 'At 0s someone comes in', 'time': 0}\n",
      "{'msg': 'At 1.809040473507442s item leaves the system', 'time': 1.809040473507442, 'item': {'systemIn': 0, 'serviceBegin': 0, 'systemOut': 1.809040473507442}}\n",
      "{'msg': 'At 2.6763418177499236s someone comes in', 'time': 2.6763418177499236}\n"
     ]
    }
   ],
   "source": [
    "state = sim.GetState()\n",
    "logs = state['logs']\n",
    "for item in logs:\n",
    "    print(item)"
   ]
  },
  {
   "cell_type": "code",
   "execution_count": null,
   "metadata": {},
   "outputs": [],
   "source": []
  },
  {
   "cell_type": "markdown",
   "metadata": {},
   "source": [
    "## Imports and Special Functions"
   ]
  },
  {
   "cell_type": "markdown",
   "metadata": {},
   "source": [
    "### createDataSelector Function"
   ]
  },
  {
   "cell_type": "markdown",
   "metadata": {},
   "source": [
    "Funkce ```createDataSelector``` slouží pro přípravu jednoduché transformace dat v průběhu simulace. Umožňuje z celkové informace o simulaci extrahovat jen dílčí prvky. Její použití je uvedeno v další části.\n",
    "\n",
    "> Implementaci není nutno studovat. Funkci je možné importovat přímo z knihovny."
   ]
  },
  {
   "cell_type": "code",
   "execution_count": 28,
   "metadata": {},
   "outputs": [],
   "source": [
    "def createDataSelector(masterMaps, maps):\n",
    "    def extractor(dataItem):\n",
    "        result = {}\n",
    "        for masterName, masterFunc in masterMaps.items():\n",
    "            row = masterFunc(dataItem)\n",
    "            for name, func in maps.items():\n",
    "                result[masterName + name] = func(row)\n",
    "        return result\n",
    "    return extractor"
   ]
  },
  {
   "cell_type": "markdown",
   "metadata": {},
   "source": [
    "### simpleODESolver Function"
   ]
  },
  {
   "cell_type": "markdown",
   "metadata": {},
   "source": [
    "Funkce ```simpleODESolver``` je funkcí, která na základě modelu, jeho počátečního stavu generuje v daném časové intervalu stavy modelu. Funkce je koncipována jako generátor a vrací jednotlivé stavy na vyžádání. Tato konkrétní implementace je založena na metodě RungeKutta. V případě potřeby lze implementaci změnit / zpřesnit. To ovšem obvykle, vzhledem ke způsobu práce simulačního prostředí s více modely, není třeba.\n",
    "\n",
    "> Implementaci není třeba studovat. Funkci je možné importovat přímo z knihovny."
   ]
  },
  {
   "cell_type": "code",
   "execution_count": 29,
   "metadata": {},
   "outputs": [],
   "source": [
    "import scipy.integrate as integrate # for numerical solution od differential equations\n",
    "\n",
    "def simpleODESolver(model, t0, state0, t_bound, max_step):\n",
    "    if not callable(model):\n",
    "        raise ValueError('Model must be callable')\n",
    "\n",
    "    solver = integrate.RK45(fun = model, t0 = t0, y0 = state0, t_bound = t_bound, max_step = max_step)\n",
    "    currentItem = {'time': solver.t, 'y': [*state0], 'yd': [*model(t0, state0)]}\n",
    "    while True:\n",
    "        yield currentItem # send signal, inform about current result\n",
    "        message = solver.step()\n",
    "        currentItem = {'time': solver.t, 'y': [*solver.y], 'yd': [*model(solver.t, solver.y)]}\n",
    "        if (not(solver.status == 'running')):\n",
    "            break"
   ]
  }
 ],
 "metadata": {
  "kernelspec": {
   "display_name": "Python 3",
   "language": "python",
   "name": "python3"
  },
  "language_info": {
   "codemirror_mode": {
    "name": "ipython",
    "version": 3
   },
   "file_extension": ".py",
   "mimetype": "text/x-python",
   "name": "python",
   "nbconvert_exporter": "python",
   "pygments_lexer": "ipython3",
   "version": "3.8.5"
  }
 },
 "nbformat": 4,
 "nbformat_minor": 4
}
